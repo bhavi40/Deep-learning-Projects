{
  "nbformat": 4,
  "nbformat_minor": 0,
  "metadata": {
    "colab": {
      "provenance": [],
      "machine_shape": "hm",
      "gpuType": "A100"
    },
    "kernelspec": {
      "name": "python3",
      "display_name": "Python 3"
    },
    "language_info": {
      "name": "python"
    },
    "accelerator": "GPU"
  },
  "cells": [
    {
      "cell_type": "code",
      "execution_count": 1,
      "metadata": {
        "colab": {
          "base_uri": "https://localhost:8080/"
        },
        "id": "meOes83sZE7P",
        "outputId": "e5b6ba78-2e41-43a3-9c70-5438c69a185d"
      },
      "outputs": [
        {
          "output_type": "stream",
          "name": "stdout",
          "text": [
            "Downloading dataset-age, 319179331 bytes compressed\n",
            "[==================================================] 319179331 bytes downloaded\n",
            "Downloaded and uncompressed: dataset-age\n",
            "Downloading age-metadata, 3804893 bytes compressed\n",
            "[==================================================] 3804893 bytes downloaded\n",
            "Downloaded and uncompressed: age-metadata\n",
            "Downloading age-testdata, 23056 bytes compressed\n",
            "[==================================================] 23056 bytes downloaded\n",
            "Downloaded and uncompressed: age-testdata\n",
            "Downloading age-testimages, 9144495 bytes compressed\n",
            "[==================================================] 9144495 bytes downloaded\n",
            "Downloaded and uncompressed: age-testimages\n",
            "Data source import complete.\n"
          ]
        }
      ],
      "source": [
        "\n",
        "# IMPORTANT: RUN THIS CELL IN ORDER TO IMPORT YOUR KAGGLE DATA SOURCES\n",
        "# TO THE CORRECT LOCATION (/kaggle/input) IN YOUR NOTEBOOK,\n",
        "# THEN FEEL FREE TO DELETE THIS CELL.\n",
        "# NOTE: THIS NOTEBOOK ENVIRONMENT DIFFERS FROM KAGGLE'S PYTHON\n",
        "# ENVIRONMENT SO THERE MAY BE MISSING LIBRARIES USED BY YOUR\n",
        "# NOTEBOOK.\n",
        "\n",
        "import os\n",
        "import sys\n",
        "from tempfile import NamedTemporaryFile\n",
        "from urllib.request import urlopen\n",
        "from urllib.parse import unquote, urlparse\n",
        "from urllib.error import HTTPError\n",
        "from zipfile import ZipFile\n",
        "import tarfile\n",
        "import shutil\n",
        "\n",
        "CHUNK_SIZE = 40960\n",
        "DATA_SOURCE_MAPPING = 'dataset-age:https%3A%2F%2Fstorage.googleapis.com%2Fkaggle-data-sets%2F4784648%2F8101805%2Fbundle%2Farchive.zip%3FX-Goog-Algorithm%3DGOOG4-RSA-SHA256%26X-Goog-Credential%3Dgcp-kaggle-com%2540kaggle-161607.iam.gserviceaccount.com%252F20240427%252Fauto%252Fstorage%252Fgoog4_request%26X-Goog-Date%3D20240427T165144Z%26X-Goog-Expires%3D259200%26X-Goog-SignedHeaders%3Dhost%26X-Goog-Signature%3D6866ea94b91b07a6aeaa2f2271f714acd8f98cdfb08c83c2f023174c3e8749c735f52c4e526f4b6e57aeb7755577dd46870504762dcbc5f999173a152b3795300cdaa44d79f02eca7776a16f476a3a27ef5e1ea92ce86e91477099da41dbf3e4c39ef0eb7addff516a3ddb0aa0a0d4bf0358d5a7a86584a8ec22f69123439cf2350d113e2f4d50fc0365766391e58cc2653a08edbdf9265ce24dd33fead9be1036d3acaf230ce5659a24dc08f6d768b8adb5a30619111274ec7d70a186243e4d65d7f0d1e95d2098910a86f42b57fc2be8291964f7c383f612c01b4ceba4a594a5d9d333e0bdb27005fa0a5e21895f4609437933d529f751a69500680be20d25,age-metadata:https%3A%2F%2Fstorage.googleapis.com%2Fkaggle-data-sets%2F4784789%2F8102004%2Fbundle%2Farchive.zip%3FX-Goog-Algorithm%3DGOOG4-RSA-SHA256%26X-Goog-Credential%3Dgcp-kaggle-com%2540kaggle-161607.iam.gserviceaccount.com%252F20240427%252Fauto%252Fstorage%252Fgoog4_request%26X-Goog-Date%3D20240427T165144Z%26X-Goog-Expires%3D259200%26X-Goog-SignedHeaders%3Dhost%26X-Goog-Signature%3D4a832f5027222eb636d3758837fa9cbdf6c8606993ec94ac0edf8cbba7e9f6b3ae01bfcca8c96f3f56723164b9e935094eb0df9f9f15a5f818c2d741ae5a92e62b4a1417c2fb96b0cfe53b6fcf6954742c13df06f6e8c9935baa75be1dd2b079b425d1c4c5a6efb6fc5c99a9a0842f04e545079aafa37c4cd9b25905e862a5d660e4e57ff55c169eb40624f52b2cd6b8388bdddb866c0f294fd43281990a630594d37f72cefefb043864100fe152da3d87f43a3b45693e81f0dd0290388c54e2d0dafb7590b8af5724f9209a06fa7b7e64c47271cd4189b1851590fa6943d31baaf66369d5b1cd99aa51e83604a694a1f213ff5996e2e4c6846986e697403d1b,age-testdata:https%3A%2F%2Fstorage.googleapis.com%2Fkaggle-data-sets%2F4865651%2F8210545%2Fbundle%2Farchive.zip%3FX-Goog-Algorithm%3DGOOG4-RSA-SHA256%26X-Goog-Credential%3Dgcp-kaggle-com%2540kaggle-161607.iam.gserviceaccount.com%252F20240427%252Fauto%252Fstorage%252Fgoog4_request%26X-Goog-Date%3D20240427T165144Z%26X-Goog-Expires%3D259200%26X-Goog-SignedHeaders%3Dhost%26X-Goog-Signature%3D4bcc568fbe7032655e505ff10d0dd2c334799cc39ba3aa27893a559756deed14a8a7cdc888db4e7bc7a5f9f48cb1e7475297853a688e9cb9955d2a08e3ab7f1dbea42546f19d5c7c153ca5c37d5495f25b9a6962d93b9ee7844d4e7ee4492e3e7cf399f2027c43bcca7d9de886b74d86918d00022345678bd69d7bee5b78919b6ab868883243ba51fc51548c9ddc425fcabad0d7a76b66b6ecd5b0ebad4b4ac5fdfd79e8d775de86be256d4fc7145712dfc4cb40107b65596728109784a1eaf45bce7129d681c025444ccd8b6edd05ff4c66e838bd5dad36fa10cd76775190789d8af5a7b05de925f1fef6b682f8b539a24782e73fb897380755a41d2739dc66,age-testimages:https%3A%2F%2Fstorage.googleapis.com%2Fkaggle-data-sets%2F4865659%2F8210555%2Fbundle%2Farchive.zip%3FX-Goog-Algorithm%3DGOOG4-RSA-SHA256%26X-Goog-Credential%3Dgcp-kaggle-com%2540kaggle-161607.iam.gserviceaccount.com%252F20240427%252Fauto%252Fstorage%252Fgoog4_request%26X-Goog-Date%3D20240427T165144Z%26X-Goog-Expires%3D259200%26X-Goog-SignedHeaders%3Dhost%26X-Goog-Signature%3D76f5edd8b1fc92ce02b6c3d5ed138e74d5be5d9c8a8e3b1f3af4b9cff6b551bcc5b964a0a87ba6f8a59c6e7dc46cb77f9467e64c4025f68588b933fdfa693e3535e2685e5c3fd652b39cd75a81e635a359f4cce9a53da4ce329c36fd8ae079e51dfbd9a6275bc0e52fea2817872000e54f9c97b535390df0d587147189c49a7b812a6cb63b3e2b054f14ddec02907bd86b6e19061977e370c15d13f2d8400fa1100b8baa4324d5264f1506796c22b923b2b316f139a618f0f7e0d2a4c0d933d3923b11ae17d6f5b79d0b3a48a50dd8646bf8b160766677525deed3fd80ebe9e72bb7bef969a5eb74a4fd1532b4f6533976a8c8c4b189530b9bbf89d5207fc060'\n",
        "\n",
        "KAGGLE_INPUT_PATH='/kaggle/input'\n",
        "KAGGLE_WORKING_PATH='/kaggle/working'\n",
        "KAGGLE_SYMLINK='kaggle'\n",
        "\n",
        "!umount /kaggle/input/ 2> /dev/null\n",
        "shutil.rmtree('/kaggle/input', ignore_errors=True)\n",
        "os.makedirs(KAGGLE_INPUT_PATH, 0o777, exist_ok=True)\n",
        "os.makedirs(KAGGLE_WORKING_PATH, 0o777, exist_ok=True)\n",
        "\n",
        "try:\n",
        "  os.symlink(KAGGLE_INPUT_PATH, os.path.join(\"..\", 'input'), target_is_directory=True)\n",
        "except FileExistsError:\n",
        "  pass\n",
        "try:\n",
        "  os.symlink(KAGGLE_WORKING_PATH, os.path.join(\"..\", 'working'), target_is_directory=True)\n",
        "except FileExistsError:\n",
        "  pass\n",
        "\n",
        "for data_source_mapping in DATA_SOURCE_MAPPING.split(','):\n",
        "    directory, download_url_encoded = data_source_mapping.split(':')\n",
        "    download_url = unquote(download_url_encoded)\n",
        "    filename = urlparse(download_url).path\n",
        "    destination_path = os.path.join(KAGGLE_INPUT_PATH, directory)\n",
        "    try:\n",
        "        with urlopen(download_url) as fileres, NamedTemporaryFile() as tfile:\n",
        "            total_length = fileres.headers['content-length']\n",
        "            print(f'Downloading {directory}, {total_length} bytes compressed')\n",
        "            dl = 0\n",
        "            data = fileres.read(CHUNK_SIZE)\n",
        "            while len(data) > 0:\n",
        "                dl += len(data)\n",
        "                tfile.write(data)\n",
        "                done = int(50 * dl / int(total_length))\n",
        "                sys.stdout.write(f\"\\r[{'=' * done}{' ' * (50-done)}] {dl} bytes downloaded\")\n",
        "                sys.stdout.flush()\n",
        "                data = fileres.read(CHUNK_SIZE)\n",
        "            if filename.endswith('.zip'):\n",
        "              with ZipFile(tfile) as zfile:\n",
        "                zfile.extractall(destination_path)\n",
        "            else:\n",
        "              with tarfile.open(tfile.name) as tarfile:\n",
        "                tarfile.extractall(destination_path)\n",
        "            print(f'\\nDownloaded and uncompressed: {directory}')\n",
        "    except HTTPError as e:\n",
        "        print(f'Failed to load (likely expired) {download_url} to path {destination_path}')\n",
        "        continue\n",
        "    except OSError as e:\n",
        "        print(f'Failed to load {download_url} to path {destination_path}')\n",
        "        continue\n",
        "\n",
        "print('Data source import complete.')\n"
      ]
    },
    {
      "cell_type": "code",
      "source": [
        "import cv2\n",
        "import os\n",
        "import numpy as np\n",
        "import pandas as pd\n",
        "from tensorflow.keras.preprocessing.image import ImageDataGenerator\n",
        "from tensorflow.keras.models import Sequential\n",
        "from tensorflow.keras.layers import Conv2D, MaxPooling2D, Flatten, Dense, Dropout, Input,InputLayer\n",
        "from tensorflow.keras.optimizers import Adam\n",
        "from tensorflow.keras.callbacks import EarlyStopping\n",
        "import tensorflow as tf\n",
        "from tensorflow.keras.losses import LogCosh\n"
      ],
      "metadata": {
        "id": "i3Q_H5zNZvRW"
      },
      "execution_count": 2,
      "outputs": []
    },
    {
      "cell_type": "code",
      "source": [
        "def load_and_filter_images(image_paths, base_directory):\n",
        "    valid_images = []\n",
        "    face_cascade = cv2.CascadeClassifier(cv2.data.haarcascades + 'haarcascade_frontalface_default.xml')\n",
        "    for img_path in image_paths:\n",
        "        full_path = os.path.join(base_directory, img_path)  # Correctly join the base directory with the image path\n",
        "        image = cv2.imread(full_path, cv2.IMREAD_GRAYSCALE)\n",
        "        if image is None:\n",
        "            continue\n",
        "        faces = face_cascade.detectMultiScale(image, scaleFactor=1.1, minNeighbors=5)\n",
        "        if len(faces) == 1:\n",
        "            valid_images.append(img_path)\n",
        "    return valid_images"
      ],
      "metadata": {
        "id": "2k0CoCtOZvUW"
      },
      "execution_count": 3,
      "outputs": []
    },
    {
      "cell_type": "code",
      "source": [
        "data = pd.read_csv('/kaggle/input/age-metadata/wiki_labels.csv')\n",
        "data['full_path'] = data['full_path'].str.extract(r\"(\\d+\\/[^']+\\.png)\")  # Regex to extract the relative path\n"
      ],
      "metadata": {
        "id": "vtLQAsd1ZvXn"
      },
      "execution_count": 4,
      "outputs": []
    },
    {
      "cell_type": "code",
      "source": [
        "base_directory = '/kaggle/input/dataset-age/wiki_labeled/wiki_labeled/'"
      ],
      "metadata": {
        "id": "bZbDTFwXZvaU"
      },
      "execution_count": 5,
      "outputs": []
    },
    {
      "cell_type": "code",
      "source": [
        "valid_image_paths = load_and_filter_images(data['full_path'].dropna().tolist(), base_directory)\n",
        "data = data[data['full_path'].isin(valid_image_paths)]"
      ],
      "metadata": {
        "id": "iadnZ_cWZvdL"
      },
      "execution_count": 6,
      "outputs": []
    },
    {
      "cell_type": "code",
      "source": [
        "data['face_score'] = pd.to_numeric(data['face_score'], errors='coerce')\n",
        "data = data[data['face_score'].notna() & (data['face_score'] != float('inf')) & data['second_face_score'].isna()]"
      ],
      "metadata": {
        "id": "a_1xrjAHZvgF"
      },
      "execution_count": 7,
      "outputs": []
    },
    {
      "cell_type": "code",
      "source": [
        "base_year = 1.0\n",
        "data['approx_dob_year'] = base_year + (data['dob'] - 366) / 365.25\n",
        "data['age'] = data['photo_taken'] - data['approx_dob_year']\n",
        "data['age'] = data['age'].round().astype('float64')\n",
        "data = data[(data['age'] > 0) & (data['age'] <= 100)]\n"
      ],
      "metadata": {
        "id": "zf3wbo7VZvjN"
      },
      "execution_count": 8,
      "outputs": []
    },
    {
      "cell_type": "code",
      "source": [
        "data['full_path'] = data['full_path'].str.extract(r\"(\\d+\\/[^']+\\.png)\")"
      ],
      "metadata": {
        "id": "k3tyCvH7ZvmM"
      },
      "execution_count": 9,
      "outputs": []
    },
    {
      "cell_type": "code",
      "source": [
        "datagen = ImageDataGenerator(\n",
        "    rescale=1./255,\n",
        "    rotation_range=20,\n",
        "    width_shift_range=0.2,\n",
        "    height_shift_range=0.2,\n",
        "    shear_range=0.15,\n",
        "    zoom_range=0.15,\n",
        "    horizontal_flip=True,\n",
        "    fill_mode='nearest',\n",
        "    brightness_range=[0.5, 1.5],\n",
        "    validation_split=0.2\n",
        ")\n"
      ],
      "metadata": {
        "id": "ooQJANw8ZvpY"
      },
      "execution_count": 10,
      "outputs": []
    },
    {
      "cell_type": "code",
      "source": [
        "train_generator = datagen.flow_from_dataframe(\n",
        "    dataframe=data,\n",
        "    directory=base_directory,\n",
        "    x_col='full_path',\n",
        "    y_col='age',\n",
        "    target_size=(100, 100),\n",
        "    batch_size=32,\n",
        "    color_mode='grayscale',\n",
        "    class_mode='raw',\n",
        "    subset='training'\n",
        ")"
      ],
      "metadata": {
        "colab": {
          "base_uri": "https://localhost:8080/"
        },
        "id": "SnO7GfQnZvs1",
        "outputId": "c443326b-a468-462c-d70b-9831a2c2f823"
      },
      "execution_count": 11,
      "outputs": [
        {
          "output_type": "stream",
          "name": "stdout",
          "text": [
            "Found 22836 validated image filenames.\n"
          ]
        }
      ]
    },
    {
      "cell_type": "code",
      "source": [
        "validation_generator = datagen.flow_from_dataframe(\n",
        "    dataframe=data,\n",
        "    directory=base_directory,\n",
        "    x_col='full_path',\n",
        "    y_col='age',\n",
        "    target_size=(100, 100),\n",
        "    batch_size=32,\n",
        "    color_mode='grayscale',\n",
        "    class_mode='raw',\n",
        "    subset='validation'\n",
        ")\n"
      ],
      "metadata": {
        "colab": {
          "base_uri": "https://localhost:8080/"
        },
        "id": "SZGGBC1xaUh0",
        "outputId": "f702f645-6c5d-4b66-c229-31169519bb9d"
      },
      "execution_count": 12,
      "outputs": [
        {
          "output_type": "stream",
          "name": "stdout",
          "text": [
            "Found 5709 validated image filenames.\n"
          ]
        }
      ]
    },
    {
      "cell_type": "code",
      "source": [
        "from tensorflow.keras.regularizers import l2\n",
        "from tensorflow.keras.metrics import MeanAbsoluteError\n",
        "model = Sequential([\n",
        "    InputLayer(input_shape=(100, 100, 1)),\n",
        "    Conv2D(64, (3, 3), activation='relu', padding='same'),\n",
        "    Conv2D(64, (3, 3), activation='relu', padding='same'),\n",
        "    MaxPooling2D(2, 2),\n",
        "    Conv2D(128, (3, 3), activation='relu', padding='same'),\n",
        "    Conv2D(128, (3, 3), activation='relu', padding='same'),\n",
        "    MaxPooling2D(2, 2),\n",
        "    Conv2D(256, (3, 3), activation='relu', padding='same'),\n",
        "    MaxPooling2D(2, 2),\n",
        "    Flatten(),\n",
        "    Dense(1024, activation='relu', kernel_regularizer=l2(0.01)),\n",
        "    Dropout(0.5),\n",
        "    Dense(1)\n",
        "])\n",
        "\n",
        "optimizer = Adam(learning_rate=0.0001)\n",
        "model.compile(optimizer=Adam(learning_rate=0.0001), loss=LogCosh(),  metrics=[MeanAbsoluteError()])"
      ],
      "metadata": {
        "id": "Vy9qCl_3aUk7"
      },
      "execution_count": 14,
      "outputs": []
    },
    {
      "cell_type": "code",
      "source": [
        "from tensorflow.keras.callbacks import ReduceLROnPlateau\n",
        "\n",
        "reduce_lr = ReduceLROnPlateau(monitor='val_loss', factor=0.2, patience=5, min_lr=0.00001)\n",
        "early_stopping = EarlyStopping(monitor='val_loss', patience=5, restore_best_weights=True)\n",
        "\n",
        "# Train the model\n",
        "history = model.fit(\n",
        "    train_generator,\n",
        "    steps_per_epoch=train_generator.samples // train_generator.batch_size,\n",
        "    epochs=50,\n",
        "    validation_data=validation_generator,\n",
        "    validation_steps=validation_generator.samples // validation_generator.batch_size,\n",
        "    callbacks=[early_stopping, reduce_lr]\n",
        ")\n"
      ],
      "metadata": {
        "colab": {
          "base_uri": "https://localhost:8080/"
        },
        "id": "Q9YHrSqgaUoZ",
        "outputId": "a2fac8b0-1d09-4c4a-c5fa-c145a850276e"
      },
      "execution_count": 15,
      "outputs": [
        {
          "output_type": "stream",
          "name": "stdout",
          "text": [
            "Epoch 1/50\n",
            "713/713 [==============================] - 57s 69ms/step - loss: 15.8738 - mean_absolute_error: 13.8371 - val_loss: 13.2812 - val_mean_absolute_error: 13.3081 - lr: 1.0000e-04\n",
            "Epoch 2/50\n",
            "713/713 [==============================] - 48s 68ms/step - loss: 12.6144 - mean_absolute_error: 12.8670 - val_loss: 12.0610 - val_mean_absolute_error: 12.4289 - lr: 1.0000e-04\n",
            "Epoch 3/50\n",
            "713/713 [==============================] - 48s 68ms/step - loss: 12.2035 - mean_absolute_error: 12.6037 - val_loss: 12.4248 - val_mean_absolute_error: 12.8372 - lr: 1.0000e-04\n",
            "Epoch 4/50\n",
            "713/713 [==============================] - 48s 68ms/step - loss: 12.1448 - mean_absolute_error: 12.5569 - val_loss: 11.9432 - val_mean_absolute_error: 12.3551 - lr: 1.0000e-04\n",
            "Epoch 5/50\n",
            "713/713 [==============================] - 48s 68ms/step - loss: 11.9228 - mean_absolute_error: 12.3316 - val_loss: 11.4637 - val_mean_absolute_error: 11.8795 - lr: 1.0000e-04\n",
            "Epoch 6/50\n",
            "713/713 [==============================] - 48s 68ms/step - loss: 11.8319 - mean_absolute_error: 12.2369 - val_loss: 11.6033 - val_mean_absolute_error: 11.9978 - lr: 1.0000e-04\n",
            "Epoch 7/50\n",
            "713/713 [==============================] - 48s 68ms/step - loss: 11.7395 - mean_absolute_error: 12.1230 - val_loss: 11.2445 - val_mean_absolute_error: 11.6166 - lr: 1.0000e-04\n",
            "Epoch 8/50\n",
            "713/713 [==============================] - 48s 67ms/step - loss: 11.5903 - mean_absolute_error: 11.9548 - val_loss: 11.3990 - val_mean_absolute_error: 11.7536 - lr: 1.0000e-04\n",
            "Epoch 9/50\n",
            "713/713 [==============================] - 48s 68ms/step - loss: 11.5017 - mean_absolute_error: 11.8432 - val_loss: 11.6832 - val_mean_absolute_error: 12.0196 - lr: 1.0000e-04\n",
            "Epoch 10/50\n",
            "713/713 [==============================] - 48s 68ms/step - loss: 11.3341 - mean_absolute_error: 11.6646 - val_loss: 10.8091 - val_mean_absolute_error: 11.1271 - lr: 1.0000e-04\n",
            "Epoch 11/50\n",
            "713/713 [==============================] - 48s 68ms/step - loss: 11.1798 - mean_absolute_error: 11.4875 - val_loss: 10.9097 - val_mean_absolute_error: 11.2100 - lr: 1.0000e-04\n",
            "Epoch 12/50\n",
            "713/713 [==============================] - 48s 68ms/step - loss: 11.0614 - mean_absolute_error: 11.3595 - val_loss: 10.4797 - val_mean_absolute_error: 10.7796 - lr: 1.0000e-04\n",
            "Epoch 13/50\n",
            "713/713 [==============================] - 48s 68ms/step - loss: 10.8991 - mean_absolute_error: 11.1881 - val_loss: 10.4160 - val_mean_absolute_error: 10.6964 - lr: 1.0000e-04\n",
            "Epoch 14/50\n",
            "713/713 [==============================] - 49s 68ms/step - loss: 10.8096 - mean_absolute_error: 11.0892 - val_loss: 10.4062 - val_mean_absolute_error: 10.6815 - lr: 1.0000e-04\n",
            "Epoch 15/50\n",
            "713/713 [==============================] - 48s 68ms/step - loss: 10.7018 - mean_absolute_error: 10.9831 - val_loss: 10.5351 - val_mean_absolute_error: 10.8107 - lr: 1.0000e-04\n",
            "Epoch 16/50\n",
            "713/713 [==============================] - 48s 68ms/step - loss: 10.5904 - mean_absolute_error: 10.8695 - val_loss: 10.2536 - val_mean_absolute_error: 10.5357 - lr: 1.0000e-04\n",
            "Epoch 17/50\n",
            "713/713 [==============================] - 48s 68ms/step - loss: 10.5668 - mean_absolute_error: 10.8543 - val_loss: 11.3115 - val_mean_absolute_error: 11.5966 - lr: 1.0000e-04\n",
            "Epoch 18/50\n",
            "713/713 [==============================] - 48s 68ms/step - loss: 10.4934 - mean_absolute_error: 10.7748 - val_loss: 10.0593 - val_mean_absolute_error: 10.3388 - lr: 1.0000e-04\n",
            "Epoch 19/50\n",
            "713/713 [==============================] - 48s 68ms/step - loss: 10.4377 - mean_absolute_error: 10.7161 - val_loss: 9.7921 - val_mean_absolute_error: 10.0726 - lr: 1.0000e-04\n",
            "Epoch 20/50\n",
            "713/713 [==============================] - 48s 68ms/step - loss: 10.3169 - mean_absolute_error: 10.5988 - val_loss: 9.9957 - val_mean_absolute_error: 10.2779 - lr: 1.0000e-04\n",
            "Epoch 21/50\n",
            "713/713 [==============================] - 48s 67ms/step - loss: 10.1869 - mean_absolute_error: 10.4687 - val_loss: 9.8683 - val_mean_absolute_error: 10.1491 - lr: 1.0000e-04\n",
            "Epoch 22/50\n",
            "713/713 [==============================] - 48s 68ms/step - loss: 10.2509 - mean_absolute_error: 10.5376 - val_loss: 9.8506 - val_mean_absolute_error: 10.1299 - lr: 1.0000e-04\n",
            "Epoch 23/50\n",
            "713/713 [==============================] - 48s 68ms/step - loss: 10.1357 - mean_absolute_error: 10.4213 - val_loss: 9.7043 - val_mean_absolute_error: 9.9843 - lr: 1.0000e-04\n",
            "Epoch 24/50\n",
            "713/713 [==============================] - 48s 68ms/step - loss: 10.1287 - mean_absolute_error: 10.4068 - val_loss: 9.5513 - val_mean_absolute_error: 9.8335 - lr: 1.0000e-04\n",
            "Epoch 25/50\n",
            "713/713 [==============================] - 48s 68ms/step - loss: 10.0040 - mean_absolute_error: 10.2855 - val_loss: 10.0973 - val_mean_absolute_error: 10.3759 - lr: 1.0000e-04\n",
            "Epoch 26/50\n",
            "713/713 [==============================] - 49s 68ms/step - loss: 10.0513 - mean_absolute_error: 10.3375 - val_loss: 9.4232 - val_mean_absolute_error: 9.7108 - lr: 1.0000e-04\n",
            "Epoch 27/50\n",
            "713/713 [==============================] - 48s 68ms/step - loss: 9.8560 - mean_absolute_error: 10.1435 - val_loss: 9.5521 - val_mean_absolute_error: 9.8438 - lr: 1.0000e-04\n",
            "Epoch 28/50\n",
            "713/713 [==============================] - 48s 68ms/step - loss: 9.9248 - mean_absolute_error: 10.2127 - val_loss: 9.8355 - val_mean_absolute_error: 10.1275 - lr: 1.0000e-04\n",
            "Epoch 29/50\n",
            "713/713 [==============================] - 48s 67ms/step - loss: 9.8104 - mean_absolute_error: 10.0945 - val_loss: 9.3115 - val_mean_absolute_error: 9.5937 - lr: 1.0000e-04\n",
            "Epoch 30/50\n",
            "713/713 [==============================] - 48s 68ms/step - loss: 9.7665 - mean_absolute_error: 10.0539 - val_loss: 9.1562 - val_mean_absolute_error: 9.4450 - lr: 1.0000e-04\n",
            "Epoch 31/50\n",
            "713/713 [==============================] - 48s 67ms/step - loss: 9.7613 - mean_absolute_error: 10.0470 - val_loss: 9.3548 - val_mean_absolute_error: 9.6407 - lr: 1.0000e-04\n",
            "Epoch 32/50\n",
            "713/713 [==============================] - 48s 68ms/step - loss: 9.7178 - mean_absolute_error: 10.0076 - val_loss: 9.2450 - val_mean_absolute_error: 9.5273 - lr: 1.0000e-04\n",
            "Epoch 33/50\n",
            "713/713 [==============================] - 48s 67ms/step - loss: 9.6290 - mean_absolute_error: 9.9104 - val_loss: 10.0486 - val_mean_absolute_error: 10.3375 - lr: 1.0000e-04\n",
            "Epoch 34/50\n",
            "713/713 [==============================] - 48s 67ms/step - loss: 9.6740 - mean_absolute_error: 9.9598 - val_loss: 9.2438 - val_mean_absolute_error: 9.5323 - lr: 1.0000e-04\n",
            "Epoch 35/50\n",
            "713/713 [==============================] - 48s 68ms/step - loss: 9.5343 - mean_absolute_error: 9.8184 - val_loss: 9.1394 - val_mean_absolute_error: 9.4185 - lr: 1.0000e-04\n",
            "Epoch 36/50\n",
            "713/713 [==============================] - 48s 68ms/step - loss: 9.5160 - mean_absolute_error: 9.7978 - val_loss: 9.1253 - val_mean_absolute_error: 9.4072 - lr: 1.0000e-04\n",
            "Epoch 37/50\n",
            "713/713 [==============================] - 48s 68ms/step - loss: 9.4977 - mean_absolute_error: 9.7785 - val_loss: 9.8445 - val_mean_absolute_error: 10.1219 - lr: 1.0000e-04\n",
            "Epoch 38/50\n",
            "713/713 [==============================] - 48s 68ms/step - loss: 9.3834 - mean_absolute_error: 9.6642 - val_loss: 9.1356 - val_mean_absolute_error: 9.4185 - lr: 1.0000e-04\n",
            "Epoch 39/50\n",
            "713/713 [==============================] - 49s 68ms/step - loss: 9.4856 - mean_absolute_error: 9.7673 - val_loss: 9.0172 - val_mean_absolute_error: 9.2965 - lr: 1.0000e-04\n",
            "Epoch 40/50\n",
            "713/713 [==============================] - 48s 68ms/step - loss: 9.3736 - mean_absolute_error: 9.6529 - val_loss: 9.4862 - val_mean_absolute_error: 9.7620 - lr: 1.0000e-04\n",
            "Epoch 41/50\n",
            "713/713 [==============================] - 49s 68ms/step - loss: 9.3291 - mean_absolute_error: 9.6060 - val_loss: 8.9574 - val_mean_absolute_error: 9.2251 - lr: 1.0000e-04\n",
            "Epoch 42/50\n",
            "713/713 [==============================] - 48s 68ms/step - loss: 9.3534 - mean_absolute_error: 9.6266 - val_loss: 8.8871 - val_mean_absolute_error: 9.1603 - lr: 1.0000e-04\n",
            "Epoch 43/50\n",
            "713/713 [==============================] - 48s 68ms/step - loss: 9.2521 - mean_absolute_error: 9.5252 - val_loss: 9.1496 - val_mean_absolute_error: 9.4302 - lr: 1.0000e-04\n",
            "Epoch 44/50\n",
            "713/713 [==============================] - 48s 68ms/step - loss: 9.2545 - mean_absolute_error: 9.5334 - val_loss: 9.1087 - val_mean_absolute_error: 9.3835 - lr: 1.0000e-04\n",
            "Epoch 45/50\n",
            "713/713 [==============================] - 48s 68ms/step - loss: 9.2375 - mean_absolute_error: 9.5097 - val_loss: 8.7587 - val_mean_absolute_error: 9.0271 - lr: 1.0000e-04\n",
            "Epoch 46/50\n",
            "713/713 [==============================] - 48s 67ms/step - loss: 9.1872 - mean_absolute_error: 9.4631 - val_loss: 8.9055 - val_mean_absolute_error: 9.1813 - lr: 1.0000e-04\n",
            "Epoch 47/50\n",
            "713/713 [==============================] - 48s 68ms/step - loss: 9.0800 - mean_absolute_error: 9.3518 - val_loss: 8.7132 - val_mean_absolute_error: 8.9796 - lr: 1.0000e-04\n",
            "Epoch 48/50\n",
            "713/713 [==============================] - 48s 68ms/step - loss: 9.0872 - mean_absolute_error: 9.3623 - val_loss: 8.6608 - val_mean_absolute_error: 8.9390 - lr: 1.0000e-04\n",
            "Epoch 49/50\n",
            "713/713 [==============================] - 48s 68ms/step - loss: 9.0268 - mean_absolute_error: 9.3061 - val_loss: 8.7158 - val_mean_absolute_error: 8.9884 - lr: 1.0000e-04\n",
            "Epoch 50/50\n",
            "713/713 [==============================] - 48s 67ms/step - loss: 9.0404 - mean_absolute_error: 9.3125 - val_loss: 8.8846 - val_mean_absolute_error: 9.1573 - lr: 1.0000e-04\n"
          ]
        }
      ]
    },
    {
      "cell_type": "code",
      "source": [
        "\n",
        "judge_datagen = ImageDataGenerator(rescale=1./255)\n",
        "\n",
        "judge_data = pd.read_csv('/kaggle/input/age-testdata/wiki_judge.csv')\n",
        "\n",
        "\n"
      ],
      "metadata": {
        "id": "o3Mc_MhxaUum"
      },
      "execution_count": 16,
      "outputs": []
    },
    {
      "cell_type": "code",
      "source": [
        "judge_data['full_path'] = judge_data['full_path'].str.extract(r\"(\\d+\\.png)\")"
      ],
      "metadata": {
        "id": "eL9A8ZxFaUyx"
      },
      "execution_count": 17,
      "outputs": []
    },
    {
      "cell_type": "code",
      "source": [
        "judge_generator = judge_datagen.flow_from_dataframe(\n",
        "    dataframe=judge_data,\n",
        "    directory='/kaggle/input/age-testimages/wiki_judge_images/wiki_judge_images/',\n",
        "    x_col='full_path',\n",
        "    y_col=None,\n",
        "    target_size=(100, 100),\n",
        "    batch_size=32,\n",
        "    color_mode='grayscale',\n",
        "    class_mode=None,\n",
        "    shuffle=False\n",
        ")"
      ],
      "metadata": {
        "colab": {
          "base_uri": "https://localhost:8080/"
        },
        "id": "9YphgRvgaU1w",
        "outputId": "2f0ae420-46c2-4a01-fef1-614a90519915"
      },
      "execution_count": 18,
      "outputs": [
        {
          "output_type": "stream",
          "name": "stdout",
          "text": [
            "Found 1409 validated image filenames.\n"
          ]
        }
      ]
    },
    {
      "cell_type": "code",
      "source": [
        "import numpy as np\n",
        "predicted_ages = model.predict(judge_generator)\n",
        "predicted_ages = predicted_ages.flatten()\n",
        "\n",
        "predicted_ages = np.clip(predicted_ages, 0, 100)\n",
        "\n",
        "\n"
      ],
      "metadata": {
        "colab": {
          "base_uri": "https://localhost:8080/"
        },
        "id": "fRwvTK-waU4j",
        "outputId": "df2ffddf-00ea-4f8f-fcb9-4797ef574a69"
      },
      "execution_count": 19,
      "outputs": [
        {
          "output_type": "stream",
          "name": "stdout",
          "text": [
            "45/45 [==============================] - 1s 19ms/step\n"
          ]
        }
      ]
    },
    {
      "cell_type": "code",
      "source": [
        "submission_df = pd.DataFrame({\n",
        "    'ID': judge_data['ID'],\n",
        "    'age': predicted_ages\n",
        "})\n",
        "\n",
        "submission_df.to_csv('/content/sample_data/submissionLC.csv', index=False)\n"
      ],
      "metadata": {
        "id": "ofBtODeOa0be"
      },
      "execution_count": 20,
      "outputs": []
    }
  ]
}