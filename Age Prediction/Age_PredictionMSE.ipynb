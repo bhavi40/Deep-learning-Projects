{
  "nbformat": 4,
  "nbformat_minor": 0,
  "metadata": {
    "colab": {
      "provenance": [],
      "machine_shape": "hm",
      "gpuType": "L4"
    },
    "kernelspec": {
      "name": "python3",
      "display_name": "Python 3"
    },
    "language_info": {
      "name": "python"
    },
    "accelerator": "GPU"
  },
  "cells": [
    {
      "cell_type": "code",
      "execution_count": null,
      "metadata": {
        "colab": {
          "base_uri": "https://localhost:8080/"
        },
        "id": "l2rTwRXdl2zP",
        "outputId": "7b584717-4b58-4d14-9968-bb664fcedde6"
      },
      "outputs": [
        {
          "output_type": "stream",
          "name": "stdout",
          "text": [
            "Downloading dataset-age, 319179331 bytes compressed\n",
            "[==================================================] 319179331 bytes downloaded\n",
            "Downloaded and uncompressed: dataset-age\n",
            "Downloading age-metadata, 3804893 bytes compressed\n",
            "[==================================================] 3804893 bytes downloaded\n",
            "Downloaded and uncompressed: age-metadata\n",
            "Downloading age-testdata, 23056 bytes compressed\n",
            "[==================================================] 23056 bytes downloaded\n",
            "Downloaded and uncompressed: age-testdata\n",
            "Downloading age-testimages, 9144495 bytes compressed\n",
            "[==================================================] 9144495 bytes downloaded\n",
            "Downloaded and uncompressed: age-testimages\n",
            "Data source import complete.\n"
          ]
        }
      ],
      "source": [
        "\n",
        "# IMPORTANT: RUN THIS CELL IN ORDER TO IMPORT YOUR KAGGLE DATA SOURCES\n",
        "# TO THE CORRECT LOCATION (/kaggle/input) IN YOUR NOTEBOOK,\n",
        "# THEN FEEL FREE TO DELETE THIS CELL.\n",
        "# NOTE: THIS NOTEBOOK ENVIRONMENT DIFFERS FROM KAGGLE'S PYTHON\n",
        "# ENVIRONMENT SO THERE MAY BE MISSING LIBRARIES USED BY YOUR\n",
        "# NOTEBOOK.\n",
        "\n",
        "import os\n",
        "import sys\n",
        "from tempfile import NamedTemporaryFile\n",
        "from urllib.request import urlopen\n",
        "from urllib.parse import unquote, urlparse\n",
        "from urllib.error import HTTPError\n",
        "from zipfile import ZipFile\n",
        "import tarfile\n",
        "import shutil\n",
        "\n",
        "CHUNK_SIZE = 40960\n",
        "DATA_SOURCE_MAPPING = 'dataset-age:https%3A%2F%2Fstorage.googleapis.com%2Fkaggle-data-sets%2F4784648%2F8101805%2Fbundle%2Farchive.zip%3FX-Goog-Algorithm%3DGOOG4-RSA-SHA256%26X-Goog-Credential%3Dgcp-kaggle-com%2540kaggle-161607.iam.gserviceaccount.com%252F20240427%252Fauto%252Fstorage%252Fgoog4_request%26X-Goog-Date%3D20240427T165144Z%26X-Goog-Expires%3D259200%26X-Goog-SignedHeaders%3Dhost%26X-Goog-Signature%3D6866ea94b91b07a6aeaa2f2271f714acd8f98cdfb08c83c2f023174c3e8749c735f52c4e526f4b6e57aeb7755577dd46870504762dcbc5f999173a152b3795300cdaa44d79f02eca7776a16f476a3a27ef5e1ea92ce86e91477099da41dbf3e4c39ef0eb7addff516a3ddb0aa0a0d4bf0358d5a7a86584a8ec22f69123439cf2350d113e2f4d50fc0365766391e58cc2653a08edbdf9265ce24dd33fead9be1036d3acaf230ce5659a24dc08f6d768b8adb5a30619111274ec7d70a186243e4d65d7f0d1e95d2098910a86f42b57fc2be8291964f7c383f612c01b4ceba4a594a5d9d333e0bdb27005fa0a5e21895f4609437933d529f751a69500680be20d25,age-metadata:https%3A%2F%2Fstorage.googleapis.com%2Fkaggle-data-sets%2F4784789%2F8102004%2Fbundle%2Farchive.zip%3FX-Goog-Algorithm%3DGOOG4-RSA-SHA256%26X-Goog-Credential%3Dgcp-kaggle-com%2540kaggle-161607.iam.gserviceaccount.com%252F20240427%252Fauto%252Fstorage%252Fgoog4_request%26X-Goog-Date%3D20240427T165144Z%26X-Goog-Expires%3D259200%26X-Goog-SignedHeaders%3Dhost%26X-Goog-Signature%3D4a832f5027222eb636d3758837fa9cbdf6c8606993ec94ac0edf8cbba7e9f6b3ae01bfcca8c96f3f56723164b9e935094eb0df9f9f15a5f818c2d741ae5a92e62b4a1417c2fb96b0cfe53b6fcf6954742c13df06f6e8c9935baa75be1dd2b079b425d1c4c5a6efb6fc5c99a9a0842f04e545079aafa37c4cd9b25905e862a5d660e4e57ff55c169eb40624f52b2cd6b8388bdddb866c0f294fd43281990a630594d37f72cefefb043864100fe152da3d87f43a3b45693e81f0dd0290388c54e2d0dafb7590b8af5724f9209a06fa7b7e64c47271cd4189b1851590fa6943d31baaf66369d5b1cd99aa51e83604a694a1f213ff5996e2e4c6846986e697403d1b,age-testdata:https%3A%2F%2Fstorage.googleapis.com%2Fkaggle-data-sets%2F4865651%2F8210545%2Fbundle%2Farchive.zip%3FX-Goog-Algorithm%3DGOOG4-RSA-SHA256%26X-Goog-Credential%3Dgcp-kaggle-com%2540kaggle-161607.iam.gserviceaccount.com%252F20240427%252Fauto%252Fstorage%252Fgoog4_request%26X-Goog-Date%3D20240427T165144Z%26X-Goog-Expires%3D259200%26X-Goog-SignedHeaders%3Dhost%26X-Goog-Signature%3D4bcc568fbe7032655e505ff10d0dd2c334799cc39ba3aa27893a559756deed14a8a7cdc888db4e7bc7a5f9f48cb1e7475297853a688e9cb9955d2a08e3ab7f1dbea42546f19d5c7c153ca5c37d5495f25b9a6962d93b9ee7844d4e7ee4492e3e7cf399f2027c43bcca7d9de886b74d86918d00022345678bd69d7bee5b78919b6ab868883243ba51fc51548c9ddc425fcabad0d7a76b66b6ecd5b0ebad4b4ac5fdfd79e8d775de86be256d4fc7145712dfc4cb40107b65596728109784a1eaf45bce7129d681c025444ccd8b6edd05ff4c66e838bd5dad36fa10cd76775190789d8af5a7b05de925f1fef6b682f8b539a24782e73fb897380755a41d2739dc66,age-testimages:https%3A%2F%2Fstorage.googleapis.com%2Fkaggle-data-sets%2F4865659%2F8210555%2Fbundle%2Farchive.zip%3FX-Goog-Algorithm%3DGOOG4-RSA-SHA256%26X-Goog-Credential%3Dgcp-kaggle-com%2540kaggle-161607.iam.gserviceaccount.com%252F20240427%252Fauto%252Fstorage%252Fgoog4_request%26X-Goog-Date%3D20240427T165144Z%26X-Goog-Expires%3D259200%26X-Goog-SignedHeaders%3Dhost%26X-Goog-Signature%3D76f5edd8b1fc92ce02b6c3d5ed138e74d5be5d9c8a8e3b1f3af4b9cff6b551bcc5b964a0a87ba6f8a59c6e7dc46cb77f9467e64c4025f68588b933fdfa693e3535e2685e5c3fd652b39cd75a81e635a359f4cce9a53da4ce329c36fd8ae079e51dfbd9a6275bc0e52fea2817872000e54f9c97b535390df0d587147189c49a7b812a6cb63b3e2b054f14ddec02907bd86b6e19061977e370c15d13f2d8400fa1100b8baa4324d5264f1506796c22b923b2b316f139a618f0f7e0d2a4c0d933d3923b11ae17d6f5b79d0b3a48a50dd8646bf8b160766677525deed3fd80ebe9e72bb7bef969a5eb74a4fd1532b4f6533976a8c8c4b189530b9bbf89d5207fc060'\n",
        "\n",
        "KAGGLE_INPUT_PATH='/kaggle/input'\n",
        "KAGGLE_WORKING_PATH='/kaggle/working'\n",
        "KAGGLE_SYMLINK='kaggle'\n",
        "\n",
        "!umount /kaggle/input/ 2> /dev/null\n",
        "shutil.rmtree('/kaggle/input', ignore_errors=True)\n",
        "os.makedirs(KAGGLE_INPUT_PATH, 0o777, exist_ok=True)\n",
        "os.makedirs(KAGGLE_WORKING_PATH, 0o777, exist_ok=True)\n",
        "\n",
        "try:\n",
        "  os.symlink(KAGGLE_INPUT_PATH, os.path.join(\"..\", 'input'), target_is_directory=True)\n",
        "except FileExistsError:\n",
        "  pass\n",
        "try:\n",
        "  os.symlink(KAGGLE_WORKING_PATH, os.path.join(\"..\", 'working'), target_is_directory=True)\n",
        "except FileExistsError:\n",
        "  pass\n",
        "\n",
        "for data_source_mapping in DATA_SOURCE_MAPPING.split(','):\n",
        "    directory, download_url_encoded = data_source_mapping.split(':')\n",
        "    download_url = unquote(download_url_encoded)\n",
        "    filename = urlparse(download_url).path\n",
        "    destination_path = os.path.join(KAGGLE_INPUT_PATH, directory)\n",
        "    try:\n",
        "        with urlopen(download_url) as fileres, NamedTemporaryFile() as tfile:\n",
        "            total_length = fileres.headers['content-length']\n",
        "            print(f'Downloading {directory}, {total_length} bytes compressed')\n",
        "            dl = 0\n",
        "            data = fileres.read(CHUNK_SIZE)\n",
        "            while len(data) > 0:\n",
        "                dl += len(data)\n",
        "                tfile.write(data)\n",
        "                done = int(50 * dl / int(total_length))\n",
        "                sys.stdout.write(f\"\\r[{'=' * done}{' ' * (50-done)}] {dl} bytes downloaded\")\n",
        "                sys.stdout.flush()\n",
        "                data = fileres.read(CHUNK_SIZE)\n",
        "            if filename.endswith('.zip'):\n",
        "              with ZipFile(tfile) as zfile:\n",
        "                zfile.extractall(destination_path)\n",
        "            else:\n",
        "              with tarfile.open(tfile.name) as tarfile:\n",
        "                tarfile.extractall(destination_path)\n",
        "            print(f'\\nDownloaded and uncompressed: {directory}')\n",
        "    except HTTPError as e:\n",
        "        print(f'Failed to load (likely expired) {download_url} to path {destination_path}')\n",
        "        continue\n",
        "    except OSError as e:\n",
        "        print(f'Failed to load {download_url} to path {destination_path}')\n",
        "        continue\n",
        "\n",
        "print('Data source import complete.')\n"
      ]
    },
    {
      "cell_type": "code",
      "source": [
        "import cv2\n",
        "import os\n",
        "import numpy as np\n",
        "import pandas as pd\n",
        "from tensorflow.keras.preprocessing.image import ImageDataGenerator\n",
        "from tensorflow.keras.models import Sequential\n",
        "from tensorflow.keras.layers import Conv2D, MaxPooling2D, Flatten, Dense, Dropout, Input,InputLayer\n",
        "from tensorflow.keras.optimizers import Adam\n",
        "from tensorflow.keras.callbacks import EarlyStopping\n",
        "import tensorflow as tf\n"
      ],
      "metadata": {
        "id": "5G7fo3ZPmHx9"
      },
      "execution_count": null,
      "outputs": []
    },
    {
      "cell_type": "code",
      "source": [
        "def load_and_filter_images(image_paths, base_directory):\n",
        "    valid_images = []\n",
        "    face_cascade = cv2.CascadeClassifier(cv2.data.haarcascades + 'haarcascade_frontalface_default.xml')\n",
        "    for img_path in image_paths:\n",
        "        full_path = os.path.join(base_directory, img_path)  # Correctly join the base directory with the image path\n",
        "        image = cv2.imread(full_path, cv2.IMREAD_GRAYSCALE)\n",
        "        if image is None:\n",
        "            continue\n",
        "        faces = face_cascade.detectMultiScale(image, scaleFactor=1.1, minNeighbors=5)\n",
        "        if len(faces) == 1:\n",
        "            valid_images.append(img_path)\n",
        "    return valid_images"
      ],
      "metadata": {
        "id": "hIcJ9o9n10qy"
      },
      "execution_count": null,
      "outputs": []
    },
    {
      "cell_type": "code",
      "source": [
        "data = pd.read_csv('/kaggle/input/age-metadata/wiki_labels.csv')\n",
        "data['full_path'] = data['full_path'].str.extract(r\"(\\d+\\/[^']+\\.png)\")  # Regex to extract the relative path\n"
      ],
      "metadata": {
        "id": "sgncmMs3mH1W"
      },
      "execution_count": null,
      "outputs": []
    },
    {
      "cell_type": "code",
      "source": [
        "base_directory = '/kaggle/input/dataset-age/wiki_labeled/wiki_labeled/'"
      ],
      "metadata": {
        "id": "7R7hdxoosd9s"
      },
      "execution_count": null,
      "outputs": []
    },
    {
      "cell_type": "code",
      "source": [
        "valid_image_paths = load_and_filter_images(data['full_path'].dropna().tolist(), base_directory)\n",
        "data = data[data['full_path'].isin(valid_image_paths)]"
      ],
      "metadata": {
        "id": "BJHQKHED2CFi"
      },
      "execution_count": null,
      "outputs": []
    },
    {
      "cell_type": "code",
      "source": [
        "data['face_score'] = pd.to_numeric(data['face_score'], errors='coerce')\n",
        "data = data[data['face_score'].notna() & (data['face_score'] != float('inf')) & data['second_face_score'].isna()]"
      ],
      "metadata": {
        "id": "dB58kbQ_mH41"
      },
      "execution_count": null,
      "outputs": []
    },
    {
      "cell_type": "code",
      "source": [
        "base_year = 1.0\n",
        "data['approx_dob_year'] = base_year + (data['dob'] - 366) / 365.25\n",
        "data['age'] = data['photo_taken'] - data['approx_dob_year']\n",
        "data['age'] = data['age'].round().astype('float64')\n",
        "data = data[(data['age'] > 0) & (data['age'] <= 100)]\n"
      ],
      "metadata": {
        "id": "mFSk0xzImH7r"
      },
      "execution_count": null,
      "outputs": []
    },
    {
      "cell_type": "code",
      "source": [
        "data['full_path'] = data['full_path'].str.extract(r\"(\\d+\\/[^']+\\.png)\")"
      ],
      "metadata": {
        "id": "gGVuCBWimH-f"
      },
      "execution_count": null,
      "outputs": []
    },
    {
      "cell_type": "code",
      "source": [
        "datagen = ImageDataGenerator(\n",
        "    rescale=1./255,\n",
        "    rotation_range=20,\n",
        "    width_shift_range=0.2,\n",
        "    height_shift_range=0.2,\n",
        "    shear_range=0.15,\n",
        "    zoom_range=0.15,\n",
        "    horizontal_flip=True,\n",
        "    fill_mode='nearest',\n",
        "    brightness_range=[0.5, 1.5],\n",
        "    validation_split=0.2\n",
        ")\n"
      ],
      "metadata": {
        "id": "QUVw3gXHmIBf"
      },
      "execution_count": null,
      "outputs": []
    },
    {
      "cell_type": "code",
      "source": [
        "train_generator = datagen.flow_from_dataframe(\n",
        "    dataframe=data,\n",
        "    directory=base_directory,\n",
        "    x_col='full_path',\n",
        "    y_col='age',\n",
        "    target_size=(100, 100),\n",
        "    batch_size=32,\n",
        "    color_mode='grayscale',\n",
        "    class_mode='raw',\n",
        "    subset='training'\n",
        ")"
      ],
      "metadata": {
        "colab": {
          "base_uri": "https://localhost:8080/"
        },
        "id": "BE3C5x9AmIEY",
        "outputId": "175a7ccb-e9d2-4e7e-8420-861af27021a7"
      },
      "execution_count": null,
      "outputs": [
        {
          "output_type": "stream",
          "name": "stdout",
          "text": [
            "Found 22836 validated image filenames.\n"
          ]
        }
      ]
    },
    {
      "cell_type": "code",
      "source": [
        "validation_generator = datagen.flow_from_dataframe(\n",
        "    dataframe=data,\n",
        "    directory=base_directory,\n",
        "    x_col='full_path',\n",
        "    y_col='age',\n",
        "    target_size=(100, 100),\n",
        "    batch_size=32,\n",
        "    color_mode='grayscale',\n",
        "    class_mode='raw',\n",
        "    subset='validation'\n",
        ")\n",
        "\n",
        "\n",
        "\n",
        "\n",
        "\n",
        "\n"
      ],
      "metadata": {
        "colab": {
          "base_uri": "https://localhost:8080/"
        },
        "id": "0Vzg5wsLmIIh",
        "outputId": "7ddda342-888f-4fa3-e062-8a644faad4b8"
      },
      "execution_count": null,
      "outputs": [
        {
          "output_type": "stream",
          "name": "stdout",
          "text": [
            "Found 5709 validated image filenames.\n"
          ]
        }
      ]
    },
    {
      "cell_type": "code",
      "source": [
        "from tensorflow.keras.regularizers import l2\n",
        "model = Sequential([\n",
        "    InputLayer(input_shape=(100, 100, 1)),\n",
        "    Conv2D(64, (3, 3), activation='relu', padding='same'),\n",
        "    Conv2D(64, (3, 3), activation='relu', padding='same'),\n",
        "    MaxPooling2D(2, 2),\n",
        "    Conv2D(128, (3, 3), activation='relu', padding='same'),\n",
        "    Conv2D(128, (3, 3), activation='relu', padding='same'),\n",
        "    MaxPooling2D(2, 2),\n",
        "    Conv2D(256, (3, 3), activation='relu', padding='same'),\n",
        "    MaxPooling2D(2, 2),\n",
        "    Flatten(),\n",
        "    Dense(1024, activation='relu', kernel_regularizer=l2(0.01)),  # Regularization to prevent overfitting\n",
        "    Dropout(0.5),  # Dropout for regularization\n",
        "    Dense(1)  # Output layer for regression (predicting age)\n",
        "])\n",
        "\n",
        "optimizer = Adam(learning_rate=0.0001)\n",
        "model.compile(optimizer=optimizer, loss='mean_squared_error', metrics=[tf.keras.metrics.RootMeanSquaredError()])"
      ],
      "metadata": {
        "id": "0Q4LCKS-mILK"
      },
      "execution_count": null,
      "outputs": []
    },
    {
      "cell_type": "code",
      "source": [
        "from tensorflow.keras.callbacks import ReduceLROnPlateau\n",
        "\n",
        "reduce_lr = ReduceLROnPlateau(monitor='val_loss', factor=0.2, patience=5, min_lr=0.00001)\n",
        "early_stopping = EarlyStopping(monitor='val_loss', patience=5, restore_best_weights=True)\n",
        "\n",
        "# Train the model\n",
        "history = model.fit(\n",
        "    train_generator,\n",
        "    steps_per_epoch=train_generator.samples // train_generator.batch_size,\n",
        "    epochs=50,\n",
        "    validation_data=validation_generator,\n",
        "    validation_steps=validation_generator.samples // validation_generator.batch_size,\n",
        "    callbacks=[early_stopping, reduce_lr]\n",
        ")\n"
      ],
      "metadata": {
        "colab": {
          "base_uri": "https://localhost:8080/"
        },
        "id": "qrsyQmlkmIOx",
        "outputId": "5a17f84d-75f2-4e1c-ec04-8b12977778e5"
      },
      "execution_count": null,
      "outputs": [
        {
          "output_type": "stream",
          "name": "stdout",
          "text": [
            "Epoch 1/50\n",
            "713/713 [==============================] - 55s 70ms/step - loss: 316.9848 - root_mean_squared_error: 17.5368 - val_loss: 254.0168 - val_root_mean_squared_error: 15.7022 - lr: 1.0000e-04\n",
            "Epoch 2/50\n",
            "713/713 [==============================] - 48s 67ms/step - loss: 264.4181 - root_mean_squared_error: 16.0479 - val_loss: 247.8916 - val_root_mean_squared_error: 15.5373 - lr: 1.0000e-04\n",
            "Epoch 3/50\n",
            "713/713 [==============================] - 48s 68ms/step - loss: 254.3735 - root_mean_squared_error: 15.7526 - val_loss: 240.8219 - val_root_mean_squared_error: 15.3233 - lr: 1.0000e-04\n",
            "Epoch 4/50\n",
            "713/713 [==============================] - 48s 68ms/step - loss: 246.0517 - root_mean_squared_error: 15.4980 - val_loss: 248.3094 - val_root_mean_squared_error: 15.5759 - lr: 1.0000e-04\n",
            "Epoch 5/50\n",
            "713/713 [==============================] - 48s 67ms/step - loss: 240.0262 - root_mean_squared_error: 15.3111 - val_loss: 223.0223 - val_root_mean_squared_error: 14.7466 - lr: 1.0000e-04\n",
            "Epoch 6/50\n",
            "713/713 [==============================] - 48s 67ms/step - loss: 232.0869 - root_mean_squared_error: 15.0501 - val_loss: 210.8344 - val_root_mean_squared_error: 14.3273 - lr: 1.0000e-04\n",
            "Epoch 7/50\n",
            "713/713 [==============================] - 48s 67ms/step - loss: 222.2095 - root_mean_squared_error: 14.7192 - val_loss: 203.1485 - val_root_mean_squared_error: 14.0564 - lr: 1.0000e-04\n",
            "Epoch 8/50\n",
            "713/713 [==============================] - 48s 68ms/step - loss: 214.2826 - root_mean_squared_error: 14.4463 - val_loss: 195.2885 - val_root_mean_squared_error: 13.7727 - lr: 1.0000e-04\n",
            "Epoch 9/50\n",
            "713/713 [==============================] - 48s 67ms/step - loss: 207.3761 - root_mean_squared_error: 14.2031 - val_loss: 190.2227 - val_root_mean_squared_error: 13.5843 - lr: 1.0000e-04\n",
            "Epoch 10/50\n",
            "713/713 [==============================] - 48s 68ms/step - loss: 201.2775 - root_mean_squared_error: 13.9838 - val_loss: 184.7361 - val_root_mean_squared_error: 13.3776 - lr: 1.0000e-04\n",
            "Epoch 11/50\n",
            "713/713 [==============================] - 48s 68ms/step - loss: 195.7184 - root_mean_squared_error: 13.7799 - val_loss: 177.3876 - val_root_mean_squared_error: 13.0962 - lr: 1.0000e-04\n",
            "Epoch 12/50\n",
            "713/713 [==============================] - 48s 68ms/step - loss: 190.5588 - root_mean_squared_error: 13.5892 - val_loss: 176.9060 - val_root_mean_squared_error: 13.0760 - lr: 1.0000e-04\n",
            "Epoch 13/50\n",
            "713/713 [==============================] - 48s 68ms/step - loss: 186.5041 - root_mean_squared_error: 13.4365 - val_loss: 166.8312 - val_root_mean_squared_error: 12.6825 - lr: 1.0000e-04\n",
            "Epoch 14/50\n",
            "713/713 [==============================] - 48s 67ms/step - loss: 184.0853 - root_mean_squared_error: 13.3447 - val_loss: 191.9480 - val_root_mean_squared_error: 13.6355 - lr: 1.0000e-04\n",
            "Epoch 15/50\n",
            "713/713 [==============================] - 48s 68ms/step - loss: 180.1637 - root_mean_squared_error: 13.1940 - val_loss: 168.3889 - val_root_mean_squared_error: 12.7375 - lr: 1.0000e-04\n",
            "Epoch 16/50\n",
            "713/713 [==============================] - 48s 67ms/step - loss: 177.9196 - root_mean_squared_error: 13.1075 - val_loss: 177.2501 - val_root_mean_squared_error: 13.0802 - lr: 1.0000e-04\n",
            "Epoch 17/50\n",
            "713/713 [==============================] - 49s 68ms/step - loss: 172.5234 - root_mean_squared_error: 12.8955 - val_loss: 162.8440 - val_root_mean_squared_error: 12.5124 - lr: 1.0000e-04\n",
            "Epoch 18/50\n",
            "713/713 [==============================] - 49s 68ms/step - loss: 169.4002 - root_mean_squared_error: 12.7718 - val_loss: 159.3891 - val_root_mean_squared_error: 12.3759 - lr: 1.0000e-04\n",
            "Epoch 19/50\n",
            "713/713 [==============================] - 48s 68ms/step - loss: 167.6829 - root_mean_squared_error: 12.7030 - val_loss: 150.6535 - val_root_mean_squared_error: 12.0129 - lr: 1.0000e-04\n",
            "Epoch 20/50\n",
            "713/713 [==============================] - 48s 67ms/step - loss: 165.4692 - root_mean_squared_error: 12.6131 - val_loss: 166.8338 - val_root_mean_squared_error: 12.6657 - lr: 1.0000e-04\n",
            "Epoch 21/50\n",
            "713/713 [==============================] - 48s 67ms/step - loss: 161.2910 - root_mean_squared_error: 12.4447 - val_loss: 149.4206 - val_root_mean_squared_error: 11.9558 - lr: 1.0000e-04\n",
            "Epoch 22/50\n",
            "713/713 [==============================] - 48s 67ms/step - loss: 160.8180 - root_mean_squared_error: 12.4228 - val_loss: 144.7761 - val_root_mean_squared_error: 11.7600 - lr: 1.0000e-04\n",
            "Epoch 23/50\n",
            "713/713 [==============================] - 48s 67ms/step - loss: 157.9459 - root_mean_squared_error: 12.3069 - val_loss: 144.4024 - val_root_mean_squared_error: 11.7437 - lr: 1.0000e-04\n",
            "Epoch 24/50\n",
            "713/713 [==============================] - 49s 68ms/step - loss: 153.8025 - root_mean_squared_error: 12.1353 - val_loss: 140.1380 - val_root_mean_squared_error: 11.5586 - lr: 1.0000e-04\n",
            "Epoch 25/50\n",
            "713/713 [==============================] - 48s 67ms/step - loss: 152.3144 - root_mean_squared_error: 12.0736 - val_loss: 140.4929 - val_root_mean_squared_error: 11.5723 - lr: 1.0000e-04\n",
            "Epoch 26/50\n",
            "713/713 [==============================] - 48s 67ms/step - loss: 150.4211 - root_mean_squared_error: 11.9946 - val_loss: 143.9312 - val_root_mean_squared_error: 11.7203 - lr: 1.0000e-04\n",
            "Epoch 27/50\n",
            "713/713 [==============================] - 49s 69ms/step - loss: 148.1917 - root_mean_squared_error: 11.9009 - val_loss: 146.6094 - val_root_mean_squared_error: 11.8354 - lr: 1.0000e-04\n",
            "Epoch 28/50\n",
            "713/713 [==============================] - 48s 67ms/step - loss: 146.7834 - root_mean_squared_error: 11.8436 - val_loss: 132.0771 - val_root_mean_squared_error: 11.2075 - lr: 1.0000e-04\n",
            "Epoch 29/50\n",
            "713/713 [==============================] - 48s 68ms/step - loss: 144.7169 - root_mean_squared_error: 11.7568 - val_loss: 139.2134 - val_root_mean_squared_error: 11.5211 - lr: 1.0000e-04\n",
            "Epoch 30/50\n",
            "713/713 [==============================] - 48s 68ms/step - loss: 140.7216 - root_mean_squared_error: 11.5866 - val_loss: 131.8291 - val_root_mean_squared_error: 11.1962 - lr: 1.0000e-04\n",
            "Epoch 31/50\n",
            "713/713 [==============================] - 48s 67ms/step - loss: 141.8044 - root_mean_squared_error: 11.6337 - val_loss: 132.5890 - val_root_mean_squared_error: 11.2303 - lr: 1.0000e-04\n",
            "Epoch 32/50\n",
            "713/713 [==============================] - 48s 67ms/step - loss: 140.9761 - root_mean_squared_error: 11.6000 - val_loss: 136.9723 - val_root_mean_squared_error: 11.4271 - lr: 1.0000e-04\n",
            "Epoch 33/50\n",
            "713/713 [==============================] - 48s 68ms/step - loss: 140.6237 - root_mean_squared_error: 11.5843 - val_loss: 131.1899 - val_root_mean_squared_error: 11.1679 - lr: 1.0000e-04\n",
            "Epoch 34/50\n",
            "713/713 [==============================] - 48s 67ms/step - loss: 135.9865 - root_mean_squared_error: 11.3821 - val_loss: 127.5713 - val_root_mean_squared_error: 11.0062 - lr: 1.0000e-04\n",
            "Epoch 35/50\n",
            "713/713 [==============================] - 48s 67ms/step - loss: 134.8745 - root_mean_squared_error: 11.3330 - val_loss: 125.3843 - val_root_mean_squared_error: 10.9070 - lr: 1.0000e-04\n",
            "Epoch 36/50\n",
            "713/713 [==============================] - 49s 68ms/step - loss: 133.9507 - root_mean_squared_error: 11.2911 - val_loss: 129.8164 - val_root_mean_squared_error: 11.1076 - lr: 1.0000e-04\n",
            "Epoch 37/50\n",
            "713/713 [==============================] - 48s 68ms/step - loss: 132.3194 - root_mean_squared_error: 11.2195 - val_loss: 131.4807 - val_root_mean_squared_error: 11.1834 - lr: 1.0000e-04\n",
            "Epoch 38/50\n",
            "713/713 [==============================] - 48s 68ms/step - loss: 131.9448 - root_mean_squared_error: 11.2039 - val_loss: 128.9697 - val_root_mean_squared_error: 11.0691 - lr: 1.0000e-04\n",
            "Epoch 39/50\n",
            "713/713 [==============================] - 48s 67ms/step - loss: 130.2767 - root_mean_squared_error: 11.1294 - val_loss: 124.7440 - val_root_mean_squared_error: 10.8800 - lr: 1.0000e-04\n",
            "Epoch 40/50\n",
            "713/713 [==============================] - 48s 68ms/step - loss: 130.4817 - root_mean_squared_error: 11.1405 - val_loss: 124.9579 - val_root_mean_squared_error: 10.8903 - lr: 1.0000e-04\n",
            "Epoch 41/50\n",
            "713/713 [==============================] - 48s 68ms/step - loss: 129.3689 - root_mean_squared_error: 11.0888 - val_loss: 123.7625 - val_root_mean_squared_error: 10.8314 - lr: 1.0000e-04\n",
            "Epoch 42/50\n",
            "713/713 [==============================] - 48s 67ms/step - loss: 127.9256 - root_mean_squared_error: 11.0236 - val_loss: 118.8148 - val_root_mean_squared_error: 10.6035 - lr: 1.0000e-04\n",
            "Epoch 43/50\n",
            "713/713 [==============================] - 48s 68ms/step - loss: 127.6318 - root_mean_squared_error: 11.0118 - val_loss: 124.9147 - val_root_mean_squared_error: 10.8868 - lr: 1.0000e-04\n",
            "Epoch 44/50\n",
            "713/713 [==============================] - 48s 67ms/step - loss: 127.3396 - root_mean_squared_error: 10.9972 - val_loss: 120.3230 - val_root_mean_squared_error: 10.6748 - lr: 1.0000e-04\n",
            "Epoch 45/50\n",
            "713/713 [==============================] - 48s 67ms/step - loss: 124.1948 - root_mean_squared_error: 10.8536 - val_loss: 115.5713 - val_root_mean_squared_error: 10.4499 - lr: 1.0000e-04\n",
            "Epoch 46/50\n",
            "713/713 [==============================] - 48s 67ms/step - loss: 124.8917 - root_mean_squared_error: 10.8847 - val_loss: 115.4042 - val_root_mean_squared_error: 10.4384 - lr: 1.0000e-04\n",
            "Epoch 47/50\n",
            "713/713 [==============================] - 48s 68ms/step - loss: 124.0428 - root_mean_squared_error: 10.8443 - val_loss: 116.4846 - val_root_mean_squared_error: 10.4903 - lr: 1.0000e-04\n",
            "Epoch 48/50\n",
            "713/713 [==============================] - 48s 67ms/step - loss: 122.5936 - root_mean_squared_error: 10.7773 - val_loss: 111.1907 - val_root_mean_squared_error: 10.2361 - lr: 1.0000e-04\n",
            "Epoch 49/50\n",
            "713/713 [==============================] - 48s 67ms/step - loss: 121.5506 - root_mean_squared_error: 10.7287 - val_loss: 117.2626 - val_root_mean_squared_error: 10.5259 - lr: 1.0000e-04\n",
            "Epoch 50/50\n",
            "713/713 [==============================] - 48s 67ms/step - loss: 121.2905 - root_mean_squared_error: 10.7149 - val_loss: 114.5263 - val_root_mean_squared_error: 10.3958 - lr: 1.0000e-04\n"
          ]
        }
      ]
    },
    {
      "cell_type": "code",
      "source": [
        "\n",
        "judge_datagen = ImageDataGenerator(rescale=1./255)\n",
        "\n",
        "judge_data = pd.read_csv('/kaggle/input/age-testdata/wiki_judge.csv')\n",
        "\n",
        "\n"
      ],
      "metadata": {
        "id": "rHW-6hQ3mIR7"
      },
      "execution_count": null,
      "outputs": []
    },
    {
      "cell_type": "code",
      "source": [
        "judge_data['full_path'] = judge_data['full_path'].str.extract(r\"(\\d+\\.png)\")"
      ],
      "metadata": {
        "id": "xqMgoawxmIUc"
      },
      "execution_count": null,
      "outputs": []
    },
    {
      "cell_type": "code",
      "source": [
        "judge_generator = judge_datagen.flow_from_dataframe(\n",
        "    dataframe=judge_data,\n",
        "    directory='/kaggle/input/age-testimages/wiki_judge_images/wiki_judge_images/',\n",
        "    x_col='full_path',\n",
        "    y_col=None,\n",
        "    target_size=(100, 100),\n",
        "    batch_size=32,\n",
        "    color_mode='grayscale',\n",
        "    class_mode=None,\n",
        "    shuffle=False\n",
        ")"
      ],
      "metadata": {
        "colab": {
          "base_uri": "https://localhost:8080/"
        },
        "id": "YsJwOgBumIW1",
        "outputId": "6261d487-f0cb-475e-bdac-22a23437d048"
      },
      "execution_count": null,
      "outputs": [
        {
          "output_type": "stream",
          "name": "stdout",
          "text": [
            "Found 1409 validated image filenames.\n"
          ]
        }
      ]
    },
    {
      "cell_type": "code",
      "source": [
        "import numpy as np\n",
        "predicted_ages = model.predict(judge_generator)\n",
        "predicted_ages = predicted_ages.flatten()\n",
        "\n",
        "predicted_ages = np.clip(predicted_ages, 0, 100)\n",
        "\n",
        "\n"
      ],
      "metadata": {
        "colab": {
          "base_uri": "https://localhost:8080/"
        },
        "id": "QVmCoTI_mIZs",
        "outputId": "5b68563c-57ad-4a22-a15a-dd026a2122ba"
      },
      "execution_count": null,
      "outputs": [
        {
          "output_type": "stream",
          "name": "stdout",
          "text": [
            "45/45 [==============================] - 1s 19ms/step\n"
          ]
        }
      ]
    },
    {
      "cell_type": "code",
      "source": [
        "submission_df = pd.DataFrame({\n",
        "    'ID': judge_data['ID'],\n",
        "    'age': predicted_ages\n",
        "})\n",
        "\n",
        "submission_df.to_csv('/content/sample_data/submission.csv', index=False)\n"
      ],
      "metadata": {
        "id": "7pjFJDK2AtXH"
      },
      "execution_count": null,
      "outputs": []
    }
  ]
}