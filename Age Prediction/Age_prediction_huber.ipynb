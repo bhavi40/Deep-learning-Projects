{
  "metadata": {
    "kernelspec": {
      "display_name": "Python 3",
      "name": "python3"
    },
    "language_info": {
      "name": "python",
      "version": "3.10.13",
      "mimetype": "text/x-python",
      "codemirror_mode": {
        "name": "ipython",
        "version": 3
      },
      "pygments_lexer": "ipython3",
      "nbconvert_exporter": "python",
      "file_extension": ".py"
    },
    "kaggle": {
      "accelerator": "nvidiaTeslaT4",
      "dataSources": [
        {
          "sourceId": 8101805,
          "sourceType": "datasetVersion",
          "datasetId": 4784648
        },
        {
          "sourceId": 8102004,
          "sourceType": "datasetVersion",
          "datasetId": 4784789
        },
        {
          "sourceId": 8210545,
          "sourceType": "datasetVersion",
          "datasetId": 4865651
        },
        {
          "sourceId": 8210555,
          "sourceType": "datasetVersion",
          "datasetId": 4865659
        }
      ],
      "dockerImageVersionId": 30683,
      "isInternetEnabled": true,
      "language": "python",
      "sourceType": "notebook",
      "isGpuEnabled": true
    },
    "colab": {
      "name": "Age prediction huber",
      "provenance": [],
      "gpuType": "T4"
    },
    "accelerator": "GPU"
  },
  "nbformat_minor": 0,
  "nbformat": 4,
  "cells": [
    {
      "source": [
        "\n",
        "# IMPORTANT: RUN THIS CELL IN ORDER TO IMPORT YOUR KAGGLE DATA SOURCES\n",
        "# TO THE CORRECT LOCATION (/kaggle/input) IN YOUR NOTEBOOK,\n",
        "# THEN FEEL FREE TO DELETE THIS CELL.\n",
        "# NOTE: THIS NOTEBOOK ENVIRONMENT DIFFERS FROM KAGGLE'S PYTHON\n",
        "# ENVIRONMENT SO THERE MAY BE MISSING LIBRARIES USED BY YOUR\n",
        "# NOTEBOOK.\n",
        "\n",
        "import os\n",
        "import sys\n",
        "from tempfile import NamedTemporaryFile\n",
        "from urllib.request import urlopen\n",
        "from urllib.parse import unquote, urlparse\n",
        "from urllib.error import HTTPError\n",
        "from zipfile import ZipFile\n",
        "import tarfile\n",
        "import shutil\n",
        "\n",
        "CHUNK_SIZE = 40960\n",
        "DATA_SOURCE_MAPPING = 'dataset-age:https%3A%2F%2Fstorage.googleapis.com%2Fkaggle-data-sets%2F4784648%2F8101805%2Fbundle%2Farchive.zip%3FX-Goog-Algorithm%3DGOOG4-RSA-SHA256%26X-Goog-Credential%3Dgcp-kaggle-com%2540kaggle-161607.iam.gserviceaccount.com%252F20240428%252Fauto%252Fstorage%252Fgoog4_request%26X-Goog-Date%3D20240428T234913Z%26X-Goog-Expires%3D259200%26X-Goog-SignedHeaders%3Dhost%26X-Goog-Signature%3D38925558c105126e7ef9ead3e9ae75f86702f39ddaddd5b2599ec7f34beccdba49feec5f10bd6db2bbfc615fa96cd303e5f4cd54a8516e13849a63ed49a2b213c710e82712ab22686e0683fa20ec0d9684aff69f2c588c05bbb1da3bfe48fd53aee94ca0107b97aafa6852a9f3c25f560cb2a01715951d8d1a53b040d2db76f342af8764e835c709b7586b256c26a461d22a334b66814d909a0e4340a7280af4086dc9c731193e7250be9647180e4b5863581936190ce01c40904d9ca849d234c7f2e39c328b048e8ea50521c8d8ba7470b1a7fb644c244a4b0511b8ba9e52b52bbb24ba15a535f1aaea6931d2518f7c8c8c880df804da30fa0b5a7c46d45929,age-metadata:https%3A%2F%2Fstorage.googleapis.com%2Fkaggle-data-sets%2F4784789%2F8102004%2Fbundle%2Farchive.zip%3FX-Goog-Algorithm%3DGOOG4-RSA-SHA256%26X-Goog-Credential%3Dgcp-kaggle-com%2540kaggle-161607.iam.gserviceaccount.com%252F20240428%252Fauto%252Fstorage%252Fgoog4_request%26X-Goog-Date%3D20240428T234913Z%26X-Goog-Expires%3D259200%26X-Goog-SignedHeaders%3Dhost%26X-Goog-Signature%3D54002e082713f571979dbd7b23ab0b92f3014255eb8a5e7079a025886b2896c070829843354a1fc1fd35262929624cc3c0819ed1237b82dcd5d610a5a40253079e34c83166655f6c4e2ea8eab9551779df038b4156f254945b22d76da776b7876ff17db34eb9de5cea3ebafa117fc9146c5a13070e4dc5454afcce65ff3a9234bcc87f4e84bf16fdc8c93f7ea088a8924f68908f6e5aba8347a0c066948d4641f6783d1b86f631db7edfb59f5334ef754192d0f6ddede9d11b5062e483f07237598e8e206a6103eda1f0979deea008d21c22a10b6a6d5defb9439c604432e3db75b5ded460688aa7dcfb737f665008cd8404f9658760b9e4361fe5c044009784,age-testdata:https%3A%2F%2Fstorage.googleapis.com%2Fkaggle-data-sets%2F4865651%2F8210545%2Fbundle%2Farchive.zip%3FX-Goog-Algorithm%3DGOOG4-RSA-SHA256%26X-Goog-Credential%3Dgcp-kaggle-com%2540kaggle-161607.iam.gserviceaccount.com%252F20240428%252Fauto%252Fstorage%252Fgoog4_request%26X-Goog-Date%3D20240428T234913Z%26X-Goog-Expires%3D259200%26X-Goog-SignedHeaders%3Dhost%26X-Goog-Signature%3D94803f1d17c303bf591b6fc622b4701fa960df3464eeff5ec70755af78529130d5a95bd764b9415223d2c891387043cc2a93d32ea3b6c4d63dbf7faf0da53d918de6354ebeffbdd3c32074b396fccffc920e9cfe12a78965a2c41d0a91042d43e233633252c9a7c25934d558c1cd33f3d819f8f01c9a2b89947a4aead9106c59f9e6d030dee47e298265478a71bf8efe4f79dfc1ee92a7139777fdaaca775f94053ca659e8572201c82569a040d2f1d00b29e7c1dd16f9bbb5be7fd770c52075c06f0ad2040be95dfc89ad6638cb25d2e49975dfd78e2eee53be84c21e0dbd083897388aa3dd55c41cace6952622ded8bbd23433faaa3cb4643a1daee2cf8996,age-testimages:https%3A%2F%2Fstorage.googleapis.com%2Fkaggle-data-sets%2F4865659%2F8210555%2Fbundle%2Farchive.zip%3FX-Goog-Algorithm%3DGOOG4-RSA-SHA256%26X-Goog-Credential%3Dgcp-kaggle-com%2540kaggle-161607.iam.gserviceaccount.com%252F20240428%252Fauto%252Fstorage%252Fgoog4_request%26X-Goog-Date%3D20240428T234913Z%26X-Goog-Expires%3D259200%26X-Goog-SignedHeaders%3Dhost%26X-Goog-Signature%3D494dd66dd63fa8bd28b3c9e4354077fa8aab87f2210cbc0c9040312b4821bdfcdd01f2fb5d9993e58eab7d942eb6348e4da78e4e4e1d40687ac55f0f8c1654823a40faa45284e26b923fa0209162e31c4bb923c83467e8d9677d4e3973851ff937c27218b07409df5af8188862833ead2d4baa715d63005c258d3e5ab11e179bc8e252bd090f13f319c593546b9712eed1420dab8659cf64188d25f3db150290f136974de5dd6032e5c702c4de5c5e13314c5b492202ceee818008bab872815cf11776dbd9cdc86ab3a4e5ba6ddaa701e0505c7d7835041e719d21c8680cfb173bac835656ed97b40bced93a75704438503c358fea4b2c34011c68cdb553a16e'\n",
        "\n",
        "KAGGLE_INPUT_PATH='/kaggle/input'\n",
        "KAGGLE_WORKING_PATH='/kaggle/working'\n",
        "KAGGLE_SYMLINK='kaggle'\n",
        "\n",
        "!umount /kaggle/input/ 2> /dev/null\n",
        "shutil.rmtree('/kaggle/input', ignore_errors=True)\n",
        "os.makedirs(KAGGLE_INPUT_PATH, 0o777, exist_ok=True)\n",
        "os.makedirs(KAGGLE_WORKING_PATH, 0o777, exist_ok=True)\n",
        "\n",
        "try:\n",
        "  os.symlink(KAGGLE_INPUT_PATH, os.path.join(\"..\", 'input'), target_is_directory=True)\n",
        "except FileExistsError:\n",
        "  pass\n",
        "try:\n",
        "  os.symlink(KAGGLE_WORKING_PATH, os.path.join(\"..\", 'working'), target_is_directory=True)\n",
        "except FileExistsError:\n",
        "  pass\n",
        "\n",
        "for data_source_mapping in DATA_SOURCE_MAPPING.split(','):\n",
        "    directory, download_url_encoded = data_source_mapping.split(':')\n",
        "    download_url = unquote(download_url_encoded)\n",
        "    filename = urlparse(download_url).path\n",
        "    destination_path = os.path.join(KAGGLE_INPUT_PATH, directory)\n",
        "    try:\n",
        "        with urlopen(download_url) as fileres, NamedTemporaryFile() as tfile:\n",
        "            total_length = fileres.headers['content-length']\n",
        "            print(f'Downloading {directory}, {total_length} bytes compressed')\n",
        "            dl = 0\n",
        "            data = fileres.read(CHUNK_SIZE)\n",
        "            while len(data) > 0:\n",
        "                dl += len(data)\n",
        "                tfile.write(data)\n",
        "                done = int(50 * dl / int(total_length))\n",
        "                sys.stdout.write(f\"\\r[{'=' * done}{' ' * (50-done)}] {dl} bytes downloaded\")\n",
        "                sys.stdout.flush()\n",
        "                data = fileres.read(CHUNK_SIZE)\n",
        "            if filename.endswith('.zip'):\n",
        "              with ZipFile(tfile) as zfile:\n",
        "                zfile.extractall(destination_path)\n",
        "            else:\n",
        "              with tarfile.open(tfile.name) as tarfile:\n",
        "                tarfile.extractall(destination_path)\n",
        "            print(f'\\nDownloaded and uncompressed: {directory}')\n",
        "    except HTTPError as e:\n",
        "        print(f'Failed to load (likely expired) {download_url} to path {destination_path}')\n",
        "        continue\n",
        "    except OSError as e:\n",
        "        print(f'Failed to load {download_url} to path {destination_path}')\n",
        "        continue\n",
        "\n",
        "print('Data source import complete.')\n"
      ],
      "metadata": {
        "id": "HSwNxTxfHOO0",
        "outputId": "4276214f-0254-4bf1-e372-43b94db5cc20",
        "colab": {
          "base_uri": "https://localhost:8080/"
        }
      },
      "cell_type": "code",
      "outputs": [
        {
          "output_type": "stream",
          "name": "stdout",
          "text": [
            "Downloading dataset-age, 319179331 bytes compressed\n",
            "[==================================================] 319179331 bytes downloaded\n",
            "Downloaded and uncompressed: dataset-age\n",
            "Downloading age-metadata, 3804893 bytes compressed\n",
            "[==================================================] 3804893 bytes downloaded\n",
            "Downloaded and uncompressed: age-metadata\n",
            "Downloading age-testdata, 23056 bytes compressed\n",
            "[==================================================] 23056 bytes downloaded\n",
            "Downloaded and uncompressed: age-testdata\n",
            "Downloading age-testimages, 9144495 bytes compressed\n",
            "[==================================================] 9144495 bytes downloaded\n",
            "Downloaded and uncompressed: age-testimages\n",
            "Data source import complete.\n"
          ]
        }
      ],
      "execution_count": 1
    },
    {
      "cell_type": "code",
      "source": [
        "import cv2\n",
        "import os\n",
        "import numpy as np\n",
        "import pandas as pd\n",
        "from tensorflow.keras.preprocessing.image import ImageDataGenerator\n",
        "from tensorflow.keras.models import Sequential\n",
        "from tensorflow.keras.layers import Conv2D, MaxPooling2D, Flatten, Dense, Dropout, Input,InputLayer\n",
        "from tensorflow.keras.optimizers import Adam\n",
        "from tensorflow.keras.callbacks import EarlyStopping\n",
        "import tensorflow as tf\n",
        "from tensorflow.keras.losses import Huber\n"
      ],
      "metadata": {
        "execution": {
          "iopub.status.busy": "2024-04-28T23:19:26.970474Z",
          "iopub.execute_input": "2024-04-28T23:19:26.971226Z",
          "iopub.status.idle": "2024-04-28T23:19:26.977937Z",
          "shell.execute_reply.started": "2024-04-28T23:19:26.971191Z",
          "shell.execute_reply": "2024-04-28T23:19:26.97678Z"
        },
        "trusted": true,
        "id": "0_oQ0RuMHOO2"
      },
      "execution_count": 2,
      "outputs": []
    },
    {
      "cell_type": "code",
      "source": [
        "def load_and_filter_images(image_paths, base_directory):\n",
        "    valid_images = []\n",
        "    face_cascade = cv2.CascadeClassifier(cv2.data.haarcascades + 'haarcascade_frontalface_default.xml')\n",
        "    for img_path in image_paths:\n",
        "        full_path = os.path.join(base_directory, img_path)  # Correctly join the base directory with the image path\n",
        "        image = cv2.imread(full_path, cv2.IMREAD_GRAYSCALE)\n",
        "        if image is None:\n",
        "            continue\n",
        "        faces = face_cascade.detectMultiScale(image, scaleFactor=1.1, minNeighbors=5)\n",
        "        if len(faces) == 1:\n",
        "            valid_images.append(img_path)\n",
        "    return valid_images"
      ],
      "metadata": {
        "execution": {
          "iopub.status.busy": "2024-04-28T23:19:31.158265Z",
          "iopub.execute_input": "2024-04-28T23:19:31.15864Z",
          "iopub.status.idle": "2024-04-28T23:19:31.165337Z",
          "shell.execute_reply.started": "2024-04-28T23:19:31.158601Z",
          "shell.execute_reply": "2024-04-28T23:19:31.164327Z"
        },
        "trusted": true,
        "id": "m6cQORVYHOO3"
      },
      "execution_count": 3,
      "outputs": []
    },
    {
      "cell_type": "code",
      "source": [
        "data = pd.read_csv('/kaggle/input/age-metadata/wiki_labels.csv')\n",
        "data['full_path'] = data['full_path'].str.extract(r\"(\\d+\\/[^']+\\.png)\")  # Regex to extract the relative path\n"
      ],
      "metadata": {
        "execution": {
          "iopub.status.busy": "2024-04-28T23:19:34.206353Z",
          "iopub.execute_input": "2024-04-28T23:19:34.207245Z",
          "iopub.status.idle": "2024-04-28T23:19:34.87007Z",
          "shell.execute_reply.started": "2024-04-28T23:19:34.207209Z",
          "shell.execute_reply": "2024-04-28T23:19:34.869093Z"
        },
        "trusted": true,
        "id": "Yj4oGEA-HOO3"
      },
      "execution_count": 4,
      "outputs": []
    },
    {
      "cell_type": "code",
      "source": [
        "base_directory = '/kaggle/input/dataset-age/wiki_labeled/wiki_labeled/'"
      ],
      "metadata": {
        "execution": {
          "iopub.status.busy": "2024-04-28T23:19:38.318396Z",
          "iopub.execute_input": "2024-04-28T23:19:38.319251Z",
          "iopub.status.idle": "2024-04-28T23:19:38.32342Z",
          "shell.execute_reply.started": "2024-04-28T23:19:38.319218Z",
          "shell.execute_reply": "2024-04-28T23:19:38.322388Z"
        },
        "trusted": true,
        "id": "sp6QcLBSHOO4"
      },
      "execution_count": 5,
      "outputs": []
    },
    {
      "cell_type": "code",
      "source": [
        "valid_image_paths = load_and_filter_images(data['full_path'].dropna().tolist(), base_directory)\n",
        "data = data[data['full_path'].isin(valid_image_paths)]"
      ],
      "metadata": {
        "execution": {
          "iopub.status.busy": "2024-04-28T23:19:41.270376Z",
          "iopub.execute_input": "2024-04-28T23:19:41.270734Z",
          "iopub.status.idle": "2024-04-28T23:27:19.601976Z",
          "shell.execute_reply.started": "2024-04-28T23:19:41.270706Z",
          "shell.execute_reply": "2024-04-28T23:27:19.600828Z"
        },
        "trusted": true,
        "id": "ydx-WrmAHOO4"
      },
      "execution_count": 6,
      "outputs": []
    },
    {
      "cell_type": "code",
      "source": [
        "data['face_score'] = pd.to_numeric(data['face_score'], errors='coerce')\n",
        "data = data[data['face_score'].notna() & (data['face_score'] != float('inf')) & data['second_face_score'].isna()]"
      ],
      "metadata": {
        "execution": {
          "iopub.status.busy": "2024-04-28T23:27:33.220905Z",
          "iopub.execute_input": "2024-04-28T23:27:33.221658Z",
          "iopub.status.idle": "2024-04-28T23:27:33.255637Z",
          "shell.execute_reply.started": "2024-04-28T23:27:33.221626Z",
          "shell.execute_reply": "2024-04-28T23:27:33.254544Z"
        },
        "trusted": true,
        "id": "7XSsEW0hHOO4"
      },
      "execution_count": 7,
      "outputs": []
    },
    {
      "cell_type": "code",
      "source": [
        "base_year = 1.0\n",
        "data['approx_dob_year'] = base_year + (data['dob'] - 366) / 365.25\n",
        "data['age'] = data['photo_taken'] - data['approx_dob_year']\n",
        "data['age'] = data['age'].round().astype('float64')\n",
        "data = data[(data['age'] > 0) & (data['age'] <= 100)]\n"
      ],
      "metadata": {
        "execution": {
          "iopub.status.busy": "2024-04-28T23:27:36.834657Z",
          "iopub.execute_input": "2024-04-28T23:27:36.835502Z",
          "iopub.status.idle": "2024-04-28T23:27:36.85227Z",
          "shell.execute_reply.started": "2024-04-28T23:27:36.835471Z",
          "shell.execute_reply": "2024-04-28T23:27:36.851428Z"
        },
        "trusted": true,
        "id": "Es41eYn2HOO5"
      },
      "execution_count": 8,
      "outputs": []
    },
    {
      "cell_type": "code",
      "source": [
        "data['full_path'] = data['full_path'].str.extract(r\"(\\d+\\/[^']+\\.png)\")"
      ],
      "metadata": {
        "execution": {
          "iopub.status.busy": "2024-04-28T23:27:40.222417Z",
          "iopub.execute_input": "2024-04-28T23:27:40.223244Z",
          "iopub.status.idle": "2024-04-28T23:27:40.285828Z",
          "shell.execute_reply.started": "2024-04-28T23:27:40.223214Z",
          "shell.execute_reply": "2024-04-28T23:27:40.284993Z"
        },
        "trusted": true,
        "id": "f10Ri2KJHOO5"
      },
      "execution_count": 9,
      "outputs": []
    },
    {
      "cell_type": "code",
      "source": [
        "datagen = ImageDataGenerator(\n",
        "    rescale=1./255,\n",
        "    rotation_range=20,\n",
        "    width_shift_range=0.2,\n",
        "    height_shift_range=0.2,\n",
        "    shear_range=0.15,\n",
        "    zoom_range=0.15,\n",
        "    horizontal_flip=True,\n",
        "    fill_mode='nearest',\n",
        "    brightness_range=[0.5, 1.5],\n",
        "    validation_split=0.2\n",
        ")\n"
      ],
      "metadata": {
        "execution": {
          "iopub.status.busy": "2024-04-28T23:27:43.857902Z",
          "iopub.execute_input": "2024-04-28T23:27:43.858591Z",
          "iopub.status.idle": "2024-04-28T23:27:43.863608Z",
          "shell.execute_reply.started": "2024-04-28T23:27:43.858562Z",
          "shell.execute_reply": "2024-04-28T23:27:43.8625Z"
        },
        "trusted": true,
        "id": "_V06A2cdHOO6"
      },
      "execution_count": 10,
      "outputs": []
    },
    {
      "cell_type": "code",
      "source": [
        "train_generator = datagen.flow_from_dataframe(\n",
        "    dataframe=data,\n",
        "    directory=base_directory,\n",
        "    x_col='full_path',\n",
        "    y_col='age',\n",
        "    target_size=(100, 100),\n",
        "    batch_size=32,\n",
        "    color_mode='grayscale',\n",
        "    class_mode='raw',\n",
        "    subset='training'\n",
        ")"
      ],
      "metadata": {
        "execution": {
          "iopub.status.busy": "2024-04-28T23:27:47.812293Z",
          "iopub.execute_input": "2024-04-28T23:27:47.812986Z",
          "iopub.status.idle": "2024-04-28T23:28:01.098017Z",
          "shell.execute_reply.started": "2024-04-28T23:27:47.812953Z",
          "shell.execute_reply": "2024-04-28T23:28:01.09718Z"
        },
        "trusted": true,
        "id": "mi9NO8QnHOO6",
        "outputId": "344924f2-f923-436c-e299-7d603944e09f",
        "colab": {
          "base_uri": "https://localhost:8080/"
        }
      },
      "execution_count": 11,
      "outputs": [
        {
          "output_type": "stream",
          "name": "stdout",
          "text": [
            "Found 22836 validated image filenames.\n"
          ]
        }
      ]
    },
    {
      "cell_type": "code",
      "source": [
        "validation_generator = datagen.flow_from_dataframe(\n",
        "    dataframe=data,\n",
        "    directory=base_directory,\n",
        "    x_col='full_path',\n",
        "    y_col='age',\n",
        "    target_size=(100, 100),\n",
        "    batch_size=32,\n",
        "    color_mode='grayscale',\n",
        "    class_mode='raw',\n",
        "    subset='validation'\n",
        ")\n"
      ],
      "metadata": {
        "execution": {
          "iopub.status.busy": "2024-04-28T23:32:10.213979Z",
          "iopub.execute_input": "2024-04-28T23:32:10.214729Z",
          "iopub.status.idle": "2024-04-28T23:32:23.195508Z",
          "shell.execute_reply.started": "2024-04-28T23:32:10.214689Z",
          "shell.execute_reply": "2024-04-28T23:32:23.194584Z"
        },
        "trusted": true,
        "id": "OvKhZeObHOO7",
        "outputId": "a554427d-1687-4bd6-8c50-5902b5c83705",
        "colab": {
          "base_uri": "https://localhost:8080/"
        }
      },
      "execution_count": 12,
      "outputs": [
        {
          "output_type": "stream",
          "name": "stdout",
          "text": [
            "Found 5709 validated image filenames.\n"
          ]
        }
      ]
    },
    {
      "cell_type": "code",
      "source": [
        "from tensorflow.keras.regularizers import l2\n",
        "from tensorflow.keras.metrics import MeanAbsoluteError\n",
        "model = Sequential([\n",
        "    InputLayer(input_shape=(100, 100, 1)),\n",
        "    Conv2D(64, (3, 3), activation='relu', padding='same'),\n",
        "    Conv2D(64, (3, 3), activation='relu', padding='same'),\n",
        "    MaxPooling2D(2, 2),\n",
        "    Conv2D(128, (3, 3), activation='relu', padding='same'),\n",
        "    Conv2D(128, (3, 3), activation='relu', padding='same'),\n",
        "    MaxPooling2D(2, 2),\n",
        "    Conv2D(256, (3, 3), activation='relu', padding='same'),\n",
        "    MaxPooling2D(2, 2),\n",
        "    Flatten(),\n",
        "    Dense(1024, activation='relu', kernel_regularizer=l2(0.01)),\n",
        "    Dropout(0.5),\n",
        "    Dense(1)\n",
        "])\n",
        "\n",
        "optimizer = Adam(learning_rate=0.0001)\n",
        "model.compile(optimizer=Adam(learning_rate=0.0001), loss=Huber(),  metrics=[MeanAbsoluteError()])"
      ],
      "metadata": {
        "execution": {
          "iopub.status.busy": "2024-04-28T23:34:32.922041Z",
          "iopub.execute_input": "2024-04-28T23:34:32.922893Z",
          "iopub.status.idle": "2024-04-28T23:34:32.995365Z",
          "shell.execute_reply.started": "2024-04-28T23:34:32.92286Z",
          "shell.execute_reply": "2024-04-28T23:34:32.994392Z"
        },
        "trusted": true,
        "id": "mOZcEPx0HOO7"
      },
      "execution_count": 13,
      "outputs": []
    },
    {
      "cell_type": "code",
      "source": [
        "from tensorflow.keras.callbacks import ReduceLROnPlateau\n",
        "\n",
        "reduce_lr = ReduceLROnPlateau(monitor='val_loss', factor=0.2, patience=5, min_lr=0.00001)\n",
        "early_stopping = EarlyStopping(monitor='val_loss', patience=5, restore_best_weights=True)\n",
        "\n",
        "# Train the model\n",
        "history = model.fit(\n",
        "    train_generator,\n",
        "    steps_per_epoch=train_generator.samples // train_generator.batch_size,\n",
        "    epochs=50,\n",
        "    validation_data=validation_generator,\n",
        "    validation_steps=validation_generator.samples // validation_generator.batch_size,\n",
        "    callbacks=[early_stopping, reduce_lr]\n",
        ")\n"
      ],
      "metadata": {
        "execution": {
          "iopub.status.busy": "2024-04-28T23:34:37.755486Z",
          "iopub.execute_input": "2024-04-28T23:34:37.756373Z",
          "iopub.status.idle": "2024-04-28T23:42:11.411182Z",
          "shell.execute_reply.started": "2024-04-28T23:34:37.756338Z",
          "shell.execute_reply": "2024-04-28T23:42:11.410241Z"
        },
        "trusted": true,
        "id": "ipPP7tLqHOO8",
        "outputId": "096de254-3952-4515-bfbe-98d29a50c9b1",
        "colab": {
          "base_uri": "https://localhost:8080/"
        }
      },
      "execution_count": 14,
      "outputs": [
        {
          "output_type": "stream",
          "name": "stdout",
          "text": [
            "Epoch 1/50\n",
            "713/713 [==============================] - 89s 113ms/step - loss: 15.9908 - mean_absolute_error: 13.9543 - val_loss: 12.7492 - val_mean_absolute_error: 12.6072 - lr: 1.0000e-04\n",
            "Epoch 2/50\n",
            "713/713 [==============================] - 79s 110ms/step - loss: 12.8529 - mean_absolute_error: 12.9211 - val_loss: 12.4630 - val_mean_absolute_error: 12.6333 - lr: 1.0000e-04\n",
            "Epoch 3/50\n",
            "713/713 [==============================] - 79s 111ms/step - loss: 12.4614 - mean_absolute_error: 12.6652 - val_loss: 12.2073 - val_mean_absolute_error: 12.4273 - lr: 1.0000e-04\n",
            "Epoch 4/50\n",
            "713/713 [==============================] - 69s 97ms/step - loss: 12.2781 - mean_absolute_error: 12.5037 - val_loss: 11.8848 - val_mean_absolute_error: 12.1047 - lr: 1.0000e-04\n",
            "Epoch 5/50\n",
            "713/713 [==============================] - 70s 98ms/step - loss: 12.0805 - mean_absolute_error: 12.3033 - val_loss: 11.7030 - val_mean_absolute_error: 11.9085 - lr: 1.0000e-04\n",
            "Epoch 6/50\n",
            "713/713 [==============================] - 78s 110ms/step - loss: 11.9954 - mean_absolute_error: 12.2046 - val_loss: 11.8151 - val_mean_absolute_error: 12.0134 - lr: 1.0000e-04\n",
            "Epoch 7/50\n",
            "713/713 [==============================] - 79s 111ms/step - loss: 11.8387 - mean_absolute_error: 12.0267 - val_loss: 11.3678 - val_mean_absolute_error: 11.5516 - lr: 1.0000e-04\n",
            "Epoch 8/50\n",
            "713/713 [==============================] - 70s 98ms/step - loss: 11.7394 - mean_absolute_error: 11.9080 - val_loss: 11.3499 - val_mean_absolute_error: 11.5007 - lr: 1.0000e-04\n",
            "Epoch 9/50\n",
            "713/713 [==============================] - 69s 97ms/step - loss: 11.5236 - mean_absolute_error: 11.6697 - val_loss: 11.3803 - val_mean_absolute_error: 11.5179 - lr: 1.0000e-04\n",
            "Epoch 10/50\n",
            "713/713 [==============================] - 70s 98ms/step - loss: 11.3542 - mean_absolute_error: 11.4879 - val_loss: 10.7950 - val_mean_absolute_error: 10.9289 - lr: 1.0000e-04\n",
            "Epoch 11/50\n",
            "713/713 [==============================] - 78s 110ms/step - loss: 11.2772 - mean_absolute_error: 11.4097 - val_loss: 10.8250 - val_mean_absolute_error: 10.9507 - lr: 1.0000e-04\n",
            "Epoch 12/50\n",
            "713/713 [==============================] - 69s 97ms/step - loss: 11.0684 - mean_absolute_error: 11.1887 - val_loss: 10.3742 - val_mean_absolute_error: 10.4936 - lr: 1.0000e-04\n",
            "Epoch 13/50\n",
            "713/713 [==============================] - 79s 110ms/step - loss: 11.0187 - mean_absolute_error: 11.1377 - val_loss: 10.4775 - val_mean_absolute_error: 10.5969 - lr: 1.0000e-04\n",
            "Epoch 14/50\n",
            "713/713 [==============================] - 70s 98ms/step - loss: 10.9302 - mean_absolute_error: 11.0524 - val_loss: 10.5331 - val_mean_absolute_error: 10.6613 - lr: 1.0000e-04\n",
            "Epoch 15/50\n",
            "713/713 [==============================] - 69s 97ms/step - loss: 10.8209 - mean_absolute_error: 10.9429 - val_loss: 10.9482 - val_mean_absolute_error: 11.0692 - lr: 1.0000e-04\n",
            "Epoch 16/50\n",
            "713/713 [==============================] - 78s 109ms/step - loss: 10.7726 - mean_absolute_error: 10.8978 - val_loss: 10.0719 - val_mean_absolute_error: 10.1990 - lr: 1.0000e-04\n",
            "Epoch 17/50\n",
            "713/713 [==============================] - 69s 97ms/step - loss: 10.5822 - mean_absolute_error: 10.7056 - val_loss: 10.3875 - val_mean_absolute_error: 10.5080 - lr: 1.0000e-04\n",
            "Epoch 18/50\n",
            "713/713 [==============================] - 78s 109ms/step - loss: 10.5874 - mean_absolute_error: 10.7134 - val_loss: 10.1199 - val_mean_absolute_error: 10.2535 - lr: 1.0000e-04\n",
            "Epoch 19/50\n",
            "713/713 [==============================] - 69s 96ms/step - loss: 10.5029 - mean_absolute_error: 10.6283 - val_loss: 9.9419 - val_mean_absolute_error: 10.0674 - lr: 1.0000e-04\n",
            "Epoch 20/50\n",
            "713/713 [==============================] - 68s 96ms/step - loss: 10.4421 - mean_absolute_error: 10.5710 - val_loss: 10.0949 - val_mean_absolute_error: 10.2163 - lr: 1.0000e-04\n",
            "Epoch 21/50\n",
            "713/713 [==============================] - 69s 97ms/step - loss: 10.3494 - mean_absolute_error: 10.4701 - val_loss: 9.9196 - val_mean_absolute_error: 10.0386 - lr: 1.0000e-04\n",
            "Epoch 22/50\n",
            "713/713 [==============================] - 68s 95ms/step - loss: 10.3067 - mean_absolute_error: 10.4278 - val_loss: 10.0146 - val_mean_absolute_error: 10.1368 - lr: 1.0000e-04\n",
            "Epoch 23/50\n",
            "713/713 [==============================] - 68s 96ms/step - loss: 10.2415 - mean_absolute_error: 10.3630 - val_loss: 9.9334 - val_mean_absolute_error: 10.0596 - lr: 1.0000e-04\n",
            "Epoch 24/50\n",
            "713/713 [==============================] - 78s 110ms/step - loss: 10.2003 - mean_absolute_error: 10.3258 - val_loss: 9.5974 - val_mean_absolute_error: 9.7254 - lr: 1.0000e-04\n",
            "Epoch 25/50\n",
            "713/713 [==============================] - 78s 109ms/step - loss: 10.1967 - mean_absolute_error: 10.3234 - val_loss: 9.6602 - val_mean_absolute_error: 9.7832 - lr: 1.0000e-04\n",
            "Epoch 26/50\n",
            "713/713 [==============================] - 79s 111ms/step - loss: 10.0964 - mean_absolute_error: 10.2153 - val_loss: 9.6071 - val_mean_absolute_error: 9.7238 - lr: 1.0000e-04\n",
            "Epoch 27/50\n",
            "713/713 [==============================] - 69s 96ms/step - loss: 10.0714 - mean_absolute_error: 10.1908 - val_loss: 9.4661 - val_mean_absolute_error: 9.5887 - lr: 1.0000e-04\n",
            "Epoch 28/50\n",
            "713/713 [==============================] - 69s 97ms/step - loss: 9.9748 - mean_absolute_error: 10.0970 - val_loss: 9.7122 - val_mean_absolute_error: 9.8275 - lr: 1.0000e-04\n",
            "Epoch 29/50\n",
            "713/713 [==============================] - 78s 109ms/step - loss: 9.9290 - mean_absolute_error: 10.0460 - val_loss: 9.3733 - val_mean_absolute_error: 9.4913 - lr: 1.0000e-04\n",
            "Epoch 30/50\n",
            "713/713 [==============================] - 78s 110ms/step - loss: 9.8969 - mean_absolute_error: 10.0109 - val_loss: 9.4617 - val_mean_absolute_error: 9.5763 - lr: 1.0000e-04\n",
            "Epoch 31/50\n",
            "713/713 [==============================] - 69s 97ms/step - loss: 9.7949 - mean_absolute_error: 9.9129 - val_loss: 9.3615 - val_mean_absolute_error: 9.4801 - lr: 1.0000e-04\n",
            "Epoch 32/50\n",
            "713/713 [==============================] - 78s 109ms/step - loss: 9.8349 - mean_absolute_error: 9.9549 - val_loss: 9.2697 - val_mean_absolute_error: 9.3892 - lr: 1.0000e-04\n",
            "Epoch 33/50\n",
            "713/713 [==============================] - 68s 95ms/step - loss: 9.7233 - mean_absolute_error: 9.8413 - val_loss: 9.3469 - val_mean_absolute_error: 9.4597 - lr: 1.0000e-04\n",
            "Epoch 34/50\n",
            "713/713 [==============================] - 68s 96ms/step - loss: 9.6984 - mean_absolute_error: 9.8092 - val_loss: 9.3393 - val_mean_absolute_error: 9.4585 - lr: 1.0000e-04\n",
            "Epoch 35/50\n",
            "713/713 [==============================] - 78s 109ms/step - loss: 9.5926 - mean_absolute_error: 9.7082 - val_loss: 9.5063 - val_mean_absolute_error: 9.6236 - lr: 1.0000e-04\n",
            "Epoch 36/50\n",
            "713/713 [==============================] - 69s 97ms/step - loss: 9.6221 - mean_absolute_error: 9.7368 - val_loss: 9.1960 - val_mean_absolute_error: 9.3171 - lr: 1.0000e-04\n",
            "Epoch 37/50\n",
            "713/713 [==============================] - 68s 95ms/step - loss: 9.5664 - mean_absolute_error: 9.6791 - val_loss: 9.3438 - val_mean_absolute_error: 9.4489 - lr: 1.0000e-04\n",
            "Epoch 38/50\n",
            "713/713 [==============================] - 69s 97ms/step - loss: 9.5165 - mean_absolute_error: 9.6283 - val_loss: 9.0296 - val_mean_absolute_error: 9.1418 - lr: 1.0000e-04\n",
            "Epoch 39/50\n",
            "713/713 [==============================] - 78s 109ms/step - loss: 9.5379 - mean_absolute_error: 9.6546 - val_loss: 9.9438 - val_mean_absolute_error: 10.0541 - lr: 1.0000e-04\n",
            "Epoch 40/50\n",
            "713/713 [==============================] - 68s 96ms/step - loss: 9.4772 - mean_absolute_error: 9.5856 - val_loss: 8.9035 - val_mean_absolute_error: 9.0089 - lr: 1.0000e-04\n",
            "Epoch 41/50\n",
            "713/713 [==============================] - 68s 95ms/step - loss: 9.4083 - mean_absolute_error: 9.5118 - val_loss: 9.0020 - val_mean_absolute_error: 9.1087 - lr: 1.0000e-04\n",
            "Epoch 42/50\n",
            "713/713 [==============================] - 78s 109ms/step - loss: 9.3692 - mean_absolute_error: 9.4783 - val_loss: 9.0432 - val_mean_absolute_error: 9.1512 - lr: 1.0000e-04\n",
            "Epoch 43/50\n",
            "713/713 [==============================] - 78s 110ms/step - loss: 9.3164 - mean_absolute_error: 9.4243 - val_loss: 8.8376 - val_mean_absolute_error: 8.9422 - lr: 1.0000e-04\n",
            "Epoch 44/50\n",
            "713/713 [==============================] - 68s 96ms/step - loss: 9.2627 - mean_absolute_error: 9.3693 - val_loss: 9.0721 - val_mean_absolute_error: 9.1783 - lr: 1.0000e-04\n",
            "Epoch 45/50\n",
            "713/713 [==============================] - 68s 95ms/step - loss: 9.2909 - mean_absolute_error: 9.4032 - val_loss: 8.7319 - val_mean_absolute_error: 8.8408 - lr: 1.0000e-04\n",
            "Epoch 46/50\n",
            "713/713 [==============================] - 78s 109ms/step - loss: 9.2310 - mean_absolute_error: 9.3387 - val_loss: 8.9256 - val_mean_absolute_error: 9.0322 - lr: 1.0000e-04\n",
            "Epoch 47/50\n",
            "713/713 [==============================] - 68s 96ms/step - loss: 9.2082 - mean_absolute_error: 9.3129 - val_loss: 8.7029 - val_mean_absolute_error: 8.8059 - lr: 1.0000e-04\n",
            "Epoch 48/50\n",
            "713/713 [==============================] - 69s 96ms/step - loss: 9.1345 - mean_absolute_error: 9.2360 - val_loss: 8.6966 - val_mean_absolute_error: 8.7977 - lr: 1.0000e-04\n",
            "Epoch 49/50\n",
            "713/713 [==============================] - 78s 110ms/step - loss: 9.1529 - mean_absolute_error: 9.2584 - val_loss: 8.9577 - val_mean_absolute_error: 9.0608 - lr: 1.0000e-04\n",
            "Epoch 50/50\n",
            "713/713 [==============================] - 70s 99ms/step - loss: 9.0629 - mean_absolute_error: 9.1713 - val_loss: 8.6096 - val_mean_absolute_error: 8.7209 - lr: 1.0000e-04\n"
          ]
        }
      ]
    },
    {
      "cell_type": "code",
      "source": [
        "\n",
        "judge_datagen = ImageDataGenerator(rescale=1./255)\n",
        "\n",
        "judge_data = pd.read_csv('/kaggle/input/age-testdata/wiki_judge.csv')\n",
        "\n",
        "\n"
      ],
      "metadata": {
        "execution": {
          "iopub.status.busy": "2024-04-28T23:43:39.811192Z",
          "iopub.execute_input": "2024-04-28T23:43:39.812499Z",
          "iopub.status.idle": "2024-04-28T23:43:39.827508Z",
          "shell.execute_reply.started": "2024-04-28T23:43:39.812463Z",
          "shell.execute_reply": "2024-04-28T23:43:39.826465Z"
        },
        "trusted": true,
        "id": "g4t0QQO9HOO8"
      },
      "execution_count": 15,
      "outputs": []
    },
    {
      "cell_type": "code",
      "source": [
        "judge_data['full_path'] = judge_data['full_path'].str.extract(r\"(\\d+\\.png)\")"
      ],
      "metadata": {
        "execution": {
          "iopub.status.busy": "2024-04-28T23:43:43.664766Z",
          "iopub.execute_input": "2024-04-28T23:43:43.665117Z",
          "iopub.status.idle": "2024-04-28T23:43:43.676044Z",
          "shell.execute_reply.started": "2024-04-28T23:43:43.665092Z",
          "shell.execute_reply": "2024-04-28T23:43:43.67503Z"
        },
        "trusted": true,
        "id": "bG5qjw7gHOO8"
      },
      "execution_count": 16,
      "outputs": []
    },
    {
      "cell_type": "code",
      "source": [
        "judge_generator = judge_datagen.flow_from_dataframe(\n",
        "    dataframe=judge_data,\n",
        "    directory='/kaggle/input/age-testimages/wiki_judge_images/wiki_judge_images/',\n",
        "    x_col='full_path',\n",
        "    y_col=None,\n",
        "    target_size=(100, 100),\n",
        "    batch_size=32,\n",
        "    color_mode='grayscale',\n",
        "    class_mode=None,\n",
        "    shuffle=False\n",
        ")"
      ],
      "metadata": {
        "execution": {
          "iopub.status.busy": "2024-04-28T23:43:47.002636Z",
          "iopub.execute_input": "2024-04-28T23:43:47.003518Z",
          "iopub.status.idle": "2024-04-28T23:43:49.653925Z",
          "shell.execute_reply.started": "2024-04-28T23:43:47.003487Z",
          "shell.execute_reply": "2024-04-28T23:43:49.652991Z"
        },
        "trusted": true,
        "id": "_ANwRVSQHOO8",
        "outputId": "8759efd9-3fb4-4cd5-ebb1-2ad06a65aa39",
        "colab": {
          "base_uri": "https://localhost:8080/"
        }
      },
      "execution_count": 17,
      "outputs": [
        {
          "output_type": "stream",
          "name": "stdout",
          "text": [
            "Found 1409 validated image filenames.\n"
          ]
        }
      ]
    },
    {
      "cell_type": "code",
      "source": [
        "import numpy as np\n",
        "predicted_ages = model.predict(judge_generator)\n",
        "predicted_ages = predicted_ages.flatten()\n",
        "\n",
        "predicted_ages = np.clip(predicted_ages, 0, 100)\n",
        "\n",
        "\n"
      ],
      "metadata": {
        "execution": {
          "iopub.status.busy": "2024-04-28T23:43:52.932679Z",
          "iopub.execute_input": "2024-04-28T23:43:52.93337Z",
          "iopub.status.idle": "2024-04-28T23:43:58.744675Z",
          "shell.execute_reply.started": "2024-04-28T23:43:52.933341Z",
          "shell.execute_reply": "2024-04-28T23:43:58.743802Z"
        },
        "trusted": true,
        "id": "6_3Y_p6fHOO8",
        "outputId": "9a9feec5-faf1-4205-a8ee-9a57f9904e45",
        "colab": {
          "base_uri": "https://localhost:8080/"
        }
      },
      "execution_count": 18,
      "outputs": [
        {
          "output_type": "stream",
          "name": "stdout",
          "text": [
            "45/45 [==============================] - 1s 28ms/step\n"
          ]
        }
      ]
    },
    {
      "cell_type": "code",
      "source": [
        "submission_df = pd.DataFrame({\n",
        "    'ID': judge_data['ID'],\n",
        "    'age': predicted_ages\n",
        "})\n",
        "\n",
        "submission_df.to_csv('/content/sample_data/submissionhuber1.csv', index=False)\n"
      ],
      "metadata": {
        "execution": {
          "iopub.status.busy": "2024-04-28T23:44:05.197268Z",
          "iopub.execute_input": "2024-04-28T23:44:05.197691Z",
          "iopub.status.idle": "2024-04-28T23:44:05.210846Z",
          "shell.execute_reply.started": "2024-04-28T23:44:05.19766Z",
          "shell.execute_reply": "2024-04-28T23:44:05.209998Z"
        },
        "trusted": true,
        "id": "C5I_Ij5WHOO9"
      },
      "execution_count": 19,
      "outputs": []
    }
  ]
}